{
 "cells": [
  {
   "cell_type": "markdown",
   "id": "55d57a0f",
   "metadata": {},
   "source": [
    "# Visualizing Geospatial Uranium Concentrations across Punjab\n",
    "---"
   ]
  },
  {
   "cell_type": "code",
   "execution_count": 1,
   "id": "5816b139",
   "metadata": {},
   "outputs": [],
   "source": [
    "import pandas as pd\n",
    "import pydeck as pdk\n",
    "import numpy as np\n",
    "import warnings\n",
    "import argparse\n",
    "import os\n",
    "import sys\n",
    "from typing import List"
   ]
  },
  {
   "cell_type": "code",
   "execution_count": 2,
   "id": "eaac0e5f",
   "metadata": {},
   "outputs": [],
   "source": [
    "DEFAULT_COLOR_SCHEMES = {\n",
    "    \"green_to_red\": \"Green for low, red for high concentrations\",\n",
    "    \"blue_to_red\": \"Blue for low, red for high concentrations\",\n",
    "    \"viridis\": \"Scientific color scheme (purple to yellow)\",\n",
    "    \"plasma\": \"Scientific color scheme (purple to pink)\",\n",
    "}"
   ]
  },
  {
   "cell_type": "code",
   "execution_count": 3,
   "id": "7a660128",
   "metadata": {},
   "outputs": [],
   "source": [
    "MAP_STYLES = {\n",
    "    \"light\": \"mapbox://styles/mapbox/light-v10\",\n",
    "    \"dark\": \"mapbox://styles/mapbox/dark-v10\",\n",
    "    \"satellite\": \"mapbox://styles/mapbox/satellite-v9\",\n",
    "    \"outdoors\": \"mapbox://styles/mapbox/outdoors-v11\",\n",
    "    \"streets\": \"mapbox://styles/mapbox/streets-v11\",\n",
    "}"
   ]
  },
  {
   "cell_type": "code",
   "execution_count": null,
   "id": "10e92e98",
   "metadata": {},
   "outputs": [],
   "source": []
  }
 ],
 "metadata": {
  "kernelspec": {
   "display_name": "Python 3",
   "language": "python",
   "name": "python3"
  },
  "language_info": {
   "codemirror_mode": {
    "name": "ipython",
    "version": 3
   },
   "file_extension": ".py",
   "mimetype": "text/x-python",
   "name": "python",
   "nbconvert_exporter": "python",
   "pygments_lexer": "ipython3",
   "version": "3.13.1"
  }
 },
 "nbformat": 4,
 "nbformat_minor": 5
}
