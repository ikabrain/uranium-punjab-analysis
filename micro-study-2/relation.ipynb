{
 "cells": [
  {
   "cell_type": "markdown",
   "id": "ee20249a",
   "metadata": {},
   "source": [
    "# Micro-Study 2: Relating Uranium Concentration with other parameters\n",
    "---"
   ]
  },
  {
   "cell_type": "code",
   "execution_count": 1,
   "id": "f1906524",
   "metadata": {},
   "outputs": [],
   "source": [
    "import numpy as np\n",
    "import pandas as pd\n",
    "import matplotlib.pyplot as plt\n",
    "import seaborn as sns\n",
    "\n",
    "%matplotlib inline"
   ]
  },
  {
   "cell_type": "code",
   "execution_count": 2,
   "id": "a3511e76",
   "metadata": {},
   "outputs": [
    {
     "data": {
      "application/vnd.microsoft.datawrangler.viewer.v0+json": {
       "columns": [
        {
         "name": "index",
         "rawType": "int64",
         "type": "integer"
        },
        {
         "name": "Year",
         "rawType": "int64",
         "type": "integer"
        },
        {
         "name": "State",
         "rawType": "object",
         "type": "string"
        },
        {
         "name": "District",
         "rawType": "object",
         "type": "string"
        },
        {
         "name": "Block/Taluka",
         "rawType": "object",
         "type": "unknown"
        },
        {
         "name": "Location/Site/Village",
         "rawType": "object",
         "type": "string"
        },
        {
         "name": "Latitude",
         "rawType": "float64",
         "type": "float"
        },
        {
         "name": "Longitude",
         "rawType": "float64",
         "type": "float"
        },
        {
         "name": "pH",
         "rawType": "object",
         "type": "string"
        },
        {
         "name": "EC (µS/cm)",
         "rawType": "float64",
         "type": "float"
        },
        {
         "name": "CO3 (mg/L)",
         "rawType": "float64",
         "type": "float"
        },
        {
         "name": "HCO3 (mg/L)",
         "rawType": "float64",
         "type": "float"
        },
        {
         "name": "Cl (mg/L)",
         "rawType": "float64",
         "type": "float"
        },
        {
         "name": "F (mg/L)",
         "rawType": "object",
         "type": "string"
        },
        {
         "name": "SO4 (mg/L)",
         "rawType": "object",
         "type": "string"
        },
        {
         "name": "NO3 (mg/L)",
         "rawType": "object",
         "type": "string"
        },
        {
         "name": "PO4 (mg/L)",
         "rawType": "object",
         "type": "string"
        },
        {
         "name": "Total Hardness",
         "rawType": "float64",
         "type": "float"
        },
        {
         "name": "Ca (mg/L)",
         "rawType": "float64",
         "type": "float"
        },
        {
         "name": "Mg (mg/L)",
         "rawType": "float64",
         "type": "float"
        },
        {
         "name": "Na (mg/L)",
         "rawType": "float64",
         "type": "float"
        },
        {
         "name": "K (mg/L)",
         "rawType": "object",
         "type": "string"
        },
        {
         "name": "SiO2",
         "rawType": "object",
         "type": "unknown"
        },
        {
         "name": "TDS",
         "rawType": "float64",
         "type": "float"
        },
        {
         "name": "Fe (ppm)",
         "rawType": "float64",
         "type": "float"
        },
        {
         "name": "As (ppb)",
         "rawType": "float64",
         "type": "float"
        },
        {
         "name": "U (ppb)",
         "rawType": "float64",
         "type": "float"
        }
       ],
       "ref": "59c43a78-91aa-49b2-ae65-e3016ec7a661",
       "rows": [
        [
         "0",
         "2023",
         "Punjab",
         "Amritsar",
         null,
         "Jagdev Khurd (Dalla)",
         "31.907",
         "74.7391",
         "7.58",
         "1233.0",
         "0.0",
         "476.0",
         "92.0",
         "0.61",
         "19.00",
         "2.00",
         "0.00",
         "380.0",
         "96.0",
         "34.0",
         "65.0",
         "14.00",
         null,
         null,
         "1.11",
         "35.9",
         "0.57"
        ],
        [
         "1",
         "2023",
         "Punjab",
         "Amritsar",
         null,
         "Laungo Mahal",
         "31.9059",
         "74.8189",
         "7.96",
         "683.0",
         "0.0",
         "415.0",
         "35.0",
         "0.62",
         "0.00",
         "0.00",
         "0.00",
         "200.0",
         "40.0",
         "24.0",
         "87.0",
         "6.00",
         null,
         null,
         "0.04",
         "54.06",
         "3.77"
        ],
        [
         "2",
         "2023",
         "Punjab",
         "Amritsar",
         null,
         "Makowal",
         "31.9046",
         "74.8904",
         "8.20",
         "412.0",
         "0.0",
         "254.0",
         "21.0",
         "0.56",
         "0.00",
         "0.00",
         "0.00",
         "180.0",
         "32.0",
         "24.0",
         "21.0",
         "7.00",
         null,
         null,
         "0.05",
         "44.44",
         "3.04"
        ],
        [
         "3",
         "2023",
         "Punjab",
         "Amritsar",
         null,
         "Malakpur",
         "31.9534",
         "74.8453",
         "8.20",
         "442.0",
         "0.0",
         "220.0",
         "21.0",
         "0.48",
         "0.00",
         "1.00",
         "0.00",
         "170.0",
         "32.0",
         "22.0",
         "20.0",
         "5.00",
         null,
         null,
         "1.76",
         "35.85",
         "1.04"
        ],
        [
         "4",
         "2023",
         "Punjab",
         "Amritsar",
         null,
         "Ramdas",
         "31.9667",
         "74.9111",
         "8.10",
         "373.0",
         "0.0",
         "238.0",
         "14.0",
         "0.83",
         "0.00",
         "0.00",
         "0.00",
         "110.0",
         "24.0",
         "12.0",
         "47.0",
         "4.00",
         null,
         null,
         "0.05",
         "36.31",
         "0.11"
        ]
       ],
       "shape": {
        "columns": 26,
        "rows": 5
       }
      },
      "text/html": [
       "<div>\n",
       "<style scoped>\n",
       "    .dataframe tbody tr th:only-of-type {\n",
       "        vertical-align: middle;\n",
       "    }\n",
       "\n",
       "    .dataframe tbody tr th {\n",
       "        vertical-align: top;\n",
       "    }\n",
       "\n",
       "    .dataframe thead th {\n",
       "        text-align: right;\n",
       "    }\n",
       "</style>\n",
       "<table border=\"1\" class=\"dataframe\">\n",
       "  <thead>\n",
       "    <tr style=\"text-align: right;\">\n",
       "      <th></th>\n",
       "      <th>Year</th>\n",
       "      <th>State</th>\n",
       "      <th>District</th>\n",
       "      <th>Block/Taluka</th>\n",
       "      <th>Location/Site/Village</th>\n",
       "      <th>Latitude</th>\n",
       "      <th>Longitude</th>\n",
       "      <th>pH</th>\n",
       "      <th>EC (µS/cm)</th>\n",
       "      <th>CO3 (mg/L)</th>\n",
       "      <th>...</th>\n",
       "      <th>Total Hardness</th>\n",
       "      <th>Ca (mg/L)</th>\n",
       "      <th>Mg (mg/L)</th>\n",
       "      <th>Na (mg/L)</th>\n",
       "      <th>K (mg/L)</th>\n",
       "      <th>SiO2</th>\n",
       "      <th>TDS</th>\n",
       "      <th>Fe (ppm)</th>\n",
       "      <th>As (ppb)</th>\n",
       "      <th>U (ppb)</th>\n",
       "    </tr>\n",
       "  </thead>\n",
       "  <tbody>\n",
       "    <tr>\n",
       "      <th>0</th>\n",
       "      <td>2023</td>\n",
       "      <td>Punjab</td>\n",
       "      <td>Amritsar</td>\n",
       "      <td>NaN</td>\n",
       "      <td>Jagdev Khurd (Dalla)</td>\n",
       "      <td>31.9070</td>\n",
       "      <td>74.7391</td>\n",
       "      <td>7.58</td>\n",
       "      <td>1233.0</td>\n",
       "      <td>0.0</td>\n",
       "      <td>...</td>\n",
       "      <td>380.0</td>\n",
       "      <td>96.0</td>\n",
       "      <td>34.0</td>\n",
       "      <td>65.0</td>\n",
       "      <td>14.00</td>\n",
       "      <td>NaN</td>\n",
       "      <td>NaN</td>\n",
       "      <td>1.11</td>\n",
       "      <td>35.90</td>\n",
       "      <td>0.57</td>\n",
       "    </tr>\n",
       "    <tr>\n",
       "      <th>1</th>\n",
       "      <td>2023</td>\n",
       "      <td>Punjab</td>\n",
       "      <td>Amritsar</td>\n",
       "      <td>NaN</td>\n",
       "      <td>Laungo Mahal</td>\n",
       "      <td>31.9059</td>\n",
       "      <td>74.8189</td>\n",
       "      <td>7.96</td>\n",
       "      <td>683.0</td>\n",
       "      <td>0.0</td>\n",
       "      <td>...</td>\n",
       "      <td>200.0</td>\n",
       "      <td>40.0</td>\n",
       "      <td>24.0</td>\n",
       "      <td>87.0</td>\n",
       "      <td>6.00</td>\n",
       "      <td>NaN</td>\n",
       "      <td>NaN</td>\n",
       "      <td>0.04</td>\n",
       "      <td>54.06</td>\n",
       "      <td>3.77</td>\n",
       "    </tr>\n",
       "    <tr>\n",
       "      <th>2</th>\n",
       "      <td>2023</td>\n",
       "      <td>Punjab</td>\n",
       "      <td>Amritsar</td>\n",
       "      <td>NaN</td>\n",
       "      <td>Makowal</td>\n",
       "      <td>31.9046</td>\n",
       "      <td>74.8904</td>\n",
       "      <td>8.20</td>\n",
       "      <td>412.0</td>\n",
       "      <td>0.0</td>\n",
       "      <td>...</td>\n",
       "      <td>180.0</td>\n",
       "      <td>32.0</td>\n",
       "      <td>24.0</td>\n",
       "      <td>21.0</td>\n",
       "      <td>7.00</td>\n",
       "      <td>NaN</td>\n",
       "      <td>NaN</td>\n",
       "      <td>0.05</td>\n",
       "      <td>44.44</td>\n",
       "      <td>3.04</td>\n",
       "    </tr>\n",
       "    <tr>\n",
       "      <th>3</th>\n",
       "      <td>2023</td>\n",
       "      <td>Punjab</td>\n",
       "      <td>Amritsar</td>\n",
       "      <td>NaN</td>\n",
       "      <td>Malakpur</td>\n",
       "      <td>31.9534</td>\n",
       "      <td>74.8453</td>\n",
       "      <td>8.20</td>\n",
       "      <td>442.0</td>\n",
       "      <td>0.0</td>\n",
       "      <td>...</td>\n",
       "      <td>170.0</td>\n",
       "      <td>32.0</td>\n",
       "      <td>22.0</td>\n",
       "      <td>20.0</td>\n",
       "      <td>5.00</td>\n",
       "      <td>NaN</td>\n",
       "      <td>NaN</td>\n",
       "      <td>1.76</td>\n",
       "      <td>35.85</td>\n",
       "      <td>1.04</td>\n",
       "    </tr>\n",
       "    <tr>\n",
       "      <th>4</th>\n",
       "      <td>2023</td>\n",
       "      <td>Punjab</td>\n",
       "      <td>Amritsar</td>\n",
       "      <td>NaN</td>\n",
       "      <td>Ramdas</td>\n",
       "      <td>31.9667</td>\n",
       "      <td>74.9111</td>\n",
       "      <td>8.10</td>\n",
       "      <td>373.0</td>\n",
       "      <td>0.0</td>\n",
       "      <td>...</td>\n",
       "      <td>110.0</td>\n",
       "      <td>24.0</td>\n",
       "      <td>12.0</td>\n",
       "      <td>47.0</td>\n",
       "      <td>4.00</td>\n",
       "      <td>NaN</td>\n",
       "      <td>NaN</td>\n",
       "      <td>0.05</td>\n",
       "      <td>36.31</td>\n",
       "      <td>0.11</td>\n",
       "    </tr>\n",
       "  </tbody>\n",
       "</table>\n",
       "<p>5 rows × 26 columns</p>\n",
       "</div>"
      ],
      "text/plain": [
       "   Year   State  District Block/Taluka Location/Site/Village  Latitude  \\\n",
       "0  2023  Punjab  Amritsar          NaN  Jagdev Khurd (Dalla)   31.9070   \n",
       "1  2023  Punjab  Amritsar          NaN          Laungo Mahal   31.9059   \n",
       "2  2023  Punjab  Amritsar          NaN               Makowal   31.9046   \n",
       "3  2023  Punjab  Amritsar          NaN              Malakpur   31.9534   \n",
       "4  2023  Punjab  Amritsar          NaN                Ramdas   31.9667   \n",
       "\n",
       "   Longitude    pH  EC (µS/cm)  CO3 (mg/L)  ...  Total Hardness  Ca (mg/L)  \\\n",
       "0    74.7391  7.58      1233.0         0.0  ...           380.0       96.0   \n",
       "1    74.8189  7.96       683.0         0.0  ...           200.0       40.0   \n",
       "2    74.8904  8.20       412.0         0.0  ...           180.0       32.0   \n",
       "3    74.8453  8.20       442.0         0.0  ...           170.0       32.0   \n",
       "4    74.9111  8.10       373.0         0.0  ...           110.0       24.0   \n",
       "\n",
       "  Mg (mg/L) Na (mg/L) K (mg/L) SiO2  TDS  Fe (ppm)  As (ppb)  U (ppb)  \n",
       "0      34.0      65.0    14.00  NaN  NaN      1.11     35.90     0.57  \n",
       "1      24.0      87.0     6.00  NaN  NaN      0.04     54.06     3.77  \n",
       "2      24.0      21.0     7.00  NaN  NaN      0.05     44.44     3.04  \n",
       "3      22.0      20.0     5.00  NaN  NaN      1.76     35.85     1.04  \n",
       "4      12.0      47.0     4.00  NaN  NaN      0.05     36.31     0.11  \n",
       "\n",
       "[5 rows x 26 columns]"
      ]
     },
     "execution_count": 2,
     "metadata": {},
     "output_type": "execute_result"
    }
   ],
   "source": [
    "df = pd.read_csv(\"uranium2.csv\")\n",
    "df.head()"
   ]
  },
  {
   "cell_type": "code",
   "execution_count": 3,
   "id": "f231e3bf",
   "metadata": {},
   "outputs": [
    {
     "name": "stdout",
     "output_type": "stream",
     "text": [
      "<class 'pandas.core.frame.DataFrame'>\n",
      "RangeIndex: 4281 entries, 0 to 4280\n",
      "Data columns (total 26 columns):\n",
      " #   Column                 Non-Null Count  Dtype  \n",
      "---  ------                 --------------  -----  \n",
      " 0   Year                   4281 non-null   int64  \n",
      " 1   State                  4281 non-null   object \n",
      " 2   District               4281 non-null   object \n",
      " 3   Block/Taluka           3345 non-null   object \n",
      " 4   Location/Site/Village  4281 non-null   object \n",
      " 5   Latitude               4281 non-null   float64\n",
      " 6   Longitude              4281 non-null   float64\n",
      " 7   pH                     4281 non-null   object \n",
      " 8   EC (µS/cm)             4273 non-null   float64\n",
      " 9   CO3 (mg/L)             4273 non-null   float64\n",
      " 10  HCO3 (mg/L)            4273 non-null   float64\n",
      " 11  Cl (mg/L)              4273 non-null   float64\n",
      " 12  F (mg/L)               4273 non-null   object \n",
      " 13  SO4 (mg/L)             4272 non-null   object \n",
      " 14  NO3 (mg/L)             4273 non-null   object \n",
      " 15  PO4 (mg/L)             4274 non-null   object \n",
      " 16  Total Hardness         4273 non-null   float64\n",
      " 17  Ca (mg/L)              4273 non-null   float64\n",
      " 18  Mg (mg/L)              4273 non-null   float64\n",
      " 19  Na (mg/L)              4273 non-null   float64\n",
      " 20  K (mg/L)               4272 non-null   object \n",
      " 21  SiO2                   1297 non-null   object \n",
      " 22  TDS                    1359 non-null   float64\n",
      " 23  Fe (ppm)               908 non-null    float64\n",
      " 24  As (ppb)               908 non-null    float64\n",
      " 25  U (ppb)                908 non-null    float64\n",
      "dtypes: float64(14), int64(1), object(11)\n",
      "memory usage: 869.7+ KB\n"
     ]
    }
   ],
   "source": [
    "df.info()"
   ]
  },
  {
   "cell_type": "markdown",
   "id": "1439bfaf",
   "metadata": {},
   "source": [
    "## EDA\n",
    "---"
   ]
  },
  {
   "cell_type": "code",
   "execution_count": 4,
   "id": "8c66bd1d",
   "metadata": {},
   "outputs": [
    {
     "data": {
      "image/png": "[encoded data removed]",
      "text/plain": [
       "<Figure size 640x480 with 1 Axes>"
      ]
     },
     "metadata": {},
     "output_type": "display_data"
    }
   ],
   "source": [
    "plt.hist(df[\"U (ppb)\"])\n",
    "plt.show()"
   ]
  },
  {
   "cell_type": "code",
   "execution_count": 20,
   "id": "a235d6e2",
   "metadata": {},
   "outputs": [
    {
     "ename": "KeyboardInterrupt",
     "evalue": "",
     "output_type": "error",
     "traceback": [
      "\u001b[31m---------------------------------------------------------------------------\u001b[39m",
      "\u001b[31mKeyboardInterrupt\u001b[39m                         Traceback (most recent call last)",
      "\u001b[36mCell\u001b[39m\u001b[36m \u001b[39m\u001b[32mIn[20]\u001b[39m\u001b[32m, line 1\u001b[39m\n\u001b[32m----> \u001b[39m\u001b[32m1\u001b[39m sns.pairplot(df)\n",
      "\u001b[36mFile \u001b[39m\u001b[32m~/miniconda3/envs/uranium/lib/python3.12/site-packages/seaborn/axisgrid.py:2149\u001b[39m, in \u001b[36mpairplot\u001b[39m\u001b[34m(data, hue, hue_order, palette, vars, x_vars, y_vars, kind, diag_kind, markers, height, aspect, corner, dropna, plot_kws, diag_kws, grid_kws, size)\u001b[39m\n\u001b[32m   2147\u001b[39m diag_kws.setdefault(\u001b[33m\"\u001b[39m\u001b[33mlegend\u001b[39m\u001b[33m\"\u001b[39m, \u001b[38;5;28;01mFalse\u001b[39;00m)\n\u001b[32m   2148\u001b[39m \u001b[38;5;28;01mif\u001b[39;00m diag_kind == \u001b[33m\"\u001b[39m\u001b[33mhist\u001b[39m\u001b[33m\"\u001b[39m:\n\u001b[32m-> \u001b[39m\u001b[32m2149\u001b[39m     grid.map_diag(histplot, **diag_kws)\n\u001b[32m   2150\u001b[39m \u001b[38;5;28;01melif\u001b[39;00m diag_kind == \u001b[33m\"\u001b[39m\u001b[33mkde\u001b[39m\u001b[33m\"\u001b[39m:\n\u001b[32m   2151\u001b[39m     diag_kws.setdefault(\u001b[33m\"\u001b[39m\u001b[33mfill\u001b[39m\u001b[33m\"\u001b[39m, \u001b[38;5;28;01mTrue\u001b[39;00m)\n",
      "\u001b[36mFile \u001b[39m\u001b[32m~/miniconda3/envs/uranium/lib/python3.12/site-packages/seaborn/axisgrid.py:1513\u001b[39m, in \u001b[36mPairGrid.map_diag\u001b[39m\u001b[34m(self, func, **kwargs)\u001b[39m\n\u001b[32m   1511\u001b[39m     plot_kwargs.setdefault(\u001b[33m\"\u001b[39m\u001b[33mhue_order\u001b[39m\u001b[33m\"\u001b[39m, \u001b[38;5;28mself\u001b[39m._hue_order)\n\u001b[32m   1512\u001b[39m     plot_kwargs.setdefault(\u001b[33m\"\u001b[39m\u001b[33mpalette\u001b[39m\u001b[33m\"\u001b[39m, \u001b[38;5;28mself\u001b[39m._orig_palette)\n\u001b[32m-> \u001b[39m\u001b[32m1513\u001b[39m     func(x=vector, **plot_kwargs)\n\u001b[32m   1514\u001b[39m     ax.legend_ = \u001b[38;5;28;01mNone\u001b[39;00m\n\u001b[32m   1516\u001b[39m \u001b[38;5;28mself\u001b[39m._add_axis_labels()\n",
      "\u001b[36mFile \u001b[39m\u001b[32m~/miniconda3/envs/uranium/lib/python3.12/site-packages/seaborn/distributions.py:1416\u001b[39m, in \u001b[36mhistplot\u001b[39m\u001b[34m(data, x, y, hue, weights, stat, bins, binwidth, binrange, discrete, cumulative, common_bins, common_norm, multiple, element, fill, shrink, kde, kde_kws, line_kws, thresh, pthresh, pmax, cbar, cbar_ax, cbar_kws, palette, hue_order, hue_norm, color, log_scale, legend, ax, **kwargs)\u001b[39m\n\u001b[32m   1405\u001b[39m estimate_kws = \u001b[38;5;28mdict\u001b[39m(\n\u001b[32m   1406\u001b[39m     stat=stat,\n\u001b[32m   1407\u001b[39m     bins=bins,\n\u001b[32m   (...)\u001b[39m\u001b[32m   1411\u001b[39m     cumulative=cumulative,\n\u001b[32m   1412\u001b[39m )\n\u001b[32m   1414\u001b[39m \u001b[38;5;28;01mif\u001b[39;00m p.univariate:\n\u001b[32m-> \u001b[39m\u001b[32m1416\u001b[39m     p.plot_univariate_histogram(\n\u001b[32m   1417\u001b[39m         multiple=multiple,\n\u001b[32m   1418\u001b[39m         element=element,\n\u001b[32m   1419\u001b[39m         fill=fill,\n\u001b[32m   1420\u001b[39m         shrink=shrink,\n\u001b[32m   1421\u001b[39m         common_norm=common_norm,\n\u001b[32m   1422\u001b[39m         common_bins=common_bins,\n\u001b[32m   1423\u001b[39m         kde=kde,\n\u001b[32m   1424\u001b[39m         kde_kws=kde_kws,\n\u001b[32m   1425\u001b[39m         color=color,\n\u001b[32m   1426\u001b[39m         legend=legend,\n\u001b[32m   1427\u001b[39m         estimate_kws=estimate_kws,\n\u001b[32m   1428\u001b[39m         line_kws=line_kws,\n\u001b[32m   1429\u001b[39m         **kwargs,\n\u001b[32m   1430\u001b[39m     )\n\u001b[32m   1432\u001b[39m \u001b[38;5;28;01melse\u001b[39;00m:\n\u001b[32m   1434\u001b[39m     p.plot_bivariate_histogram(\n\u001b[32m   1435\u001b[39m         common_bins=common_bins,\n\u001b[32m   1436\u001b[39m         common_norm=common_norm,\n\u001b[32m   (...)\u001b[39m\u001b[32m   1446\u001b[39m         **kwargs,\n\u001b[32m   1447\u001b[39m     )\n",
      "\u001b[36mFile \u001b[39m\u001b[32m~/miniconda3/envs/uranium/lib/python3.12/site-packages/seaborn/distributions.py:571\u001b[39m, in \u001b[36m_DistributionPlotter.plot_univariate_histogram\u001b[39m\u001b[34m(self, multiple, element, fill, common_norm, common_bins, shrink, kde, kde_kws, color, legend, line_kws, estimate_kws, **plot_kws)\u001b[39m\n\u001b[32m    566\u001b[39m \u001b[38;5;28;01mif\u001b[39;00m element == \u001b[33m\"\u001b[39m\u001b[33mbars\u001b[39m\u001b[33m\"\u001b[39m:\n\u001b[32m    567\u001b[39m \n\u001b[32m    568\u001b[39m     \u001b[38;5;66;03m# Use matplotlib bar plotting\u001b[39;00m\n\u001b[32m    570\u001b[39m     plot_func = ax.bar \u001b[38;5;28;01mif\u001b[39;00m \u001b[38;5;28mself\u001b[39m.data_variable == \u001b[33m\"\u001b[39m\u001b[33mx\u001b[39m\u001b[33m\"\u001b[39m \u001b[38;5;28;01melse\u001b[39;00m ax.barh\n\u001b[32m--> \u001b[39m\u001b[32m571\u001b[39m     artists = plot_func(\n\u001b[32m    572\u001b[39m         hist[\u001b[33m\"\u001b[39m\u001b[33medges\u001b[39m\u001b[33m\"\u001b[39m],\n\u001b[32m    573\u001b[39m         hist[\u001b[33m\"\u001b[39m\u001b[33mheights\u001b[39m\u001b[33m\"\u001b[39m] - bottom,\n\u001b[32m    574\u001b[39m         hist[\u001b[33m\"\u001b[39m\u001b[33mwidths\u001b[39m\u001b[33m\"\u001b[39m],\n\u001b[32m    575\u001b[39m         bottom,\n\u001b[32m    576\u001b[39m         align=\u001b[33m\"\u001b[39m\u001b[33medge\u001b[39m\u001b[33m\"\u001b[39m,\n\u001b[32m    577\u001b[39m         **artist_kws,\n\u001b[32m    578\u001b[39m     )\n\u001b[32m    580\u001b[39m     \u001b[38;5;28;01mfor\u001b[39;00m bar \u001b[38;5;129;01min\u001b[39;00m artists:\n\u001b[32m    581\u001b[39m         \u001b[38;5;28;01mif\u001b[39;00m \u001b[38;5;28mself\u001b[39m.data_variable == \u001b[33m\"\u001b[39m\u001b[33mx\u001b[39m\u001b[33m\"\u001b[39m:\n",
      "\u001b[36mFile \u001b[39m\u001b[32m~/miniconda3/envs/uranium/lib/python3.12/site-packages/matplotlib/__init__.py:1521\u001b[39m, in \u001b[36m_preprocess_data.<locals>.inner\u001b[39m\u001b[34m(ax, data, *args, **kwargs)\u001b[39m\n\u001b[32m   1518\u001b[39m \u001b[38;5;129m@functools\u001b[39m.wraps(func)\n\u001b[32m   1519\u001b[39m \u001b[38;5;28;01mdef\u001b[39;00m\u001b[38;5;250m \u001b[39m\u001b[34minner\u001b[39m(ax, *args, data=\u001b[38;5;28;01mNone\u001b[39;00m, **kwargs):\n\u001b[32m   1520\u001b[39m     \u001b[38;5;28;01mif\u001b[39;00m data \u001b[38;5;129;01mis\u001b[39;00m \u001b[38;5;28;01mNone\u001b[39;00m:\n\u001b[32m-> \u001b[39m\u001b[32m1521\u001b[39m         \u001b[38;5;28;01mreturn\u001b[39;00m func(\n\u001b[32m   1522\u001b[39m             ax,\n\u001b[32m   1523\u001b[39m             *\u001b[38;5;28mmap\u001b[39m(cbook.sanitize_sequence, args),\n\u001b[32m   1524\u001b[39m             **{k: cbook.sanitize_sequence(v) \u001b[38;5;28;01mfor\u001b[39;00m k, v \u001b[38;5;129;01min\u001b[39;00m kwargs.items()})\n\u001b[32m   1526\u001b[39m     bound = new_sig.bind(ax, *args, **kwargs)\n\u001b[32m   1527\u001b[39m     auto_label = (bound.arguments.get(label_namer)\n\u001b[32m   1528\u001b[39m                   \u001b[38;5;129;01mor\u001b[39;00m bound.kwargs.get(label_namer))\n",
      "\u001b[36mFile \u001b[39m\u001b[32m~/miniconda3/envs/uranium/lib/python3.12/site-packages/matplotlib/axes/_axes.py:2635\u001b[39m, in \u001b[36mAxes.bar\u001b[39m\u001b[34m(self, x, height, width, bottom, align, **kwargs)\u001b[39m\n\u001b[32m   2632\u001b[39m args = \u001b[38;5;28mzip\u001b[39m(left, bottom, width, height, facecolor, edgecolor, linewidth,\n\u001b[32m   2633\u001b[39m            hatch, patch_labels)\n\u001b[32m   2634\u001b[39m \u001b[38;5;28;01mfor\u001b[39;00m l, b, w, h, c, e, lw, htch, lbl \u001b[38;5;129;01min\u001b[39;00m args:\n\u001b[32m-> \u001b[39m\u001b[32m2635\u001b[39m     r = mpatches.Rectangle(\n\u001b[32m   2636\u001b[39m         xy=(l, b), width=w, height=h,\n\u001b[32m   2637\u001b[39m         facecolor=c,\n\u001b[32m   2638\u001b[39m         edgecolor=e,\n\u001b[32m   2639\u001b[39m         linewidth=lw,\n\u001b[32m   2640\u001b[39m         label=lbl,\n\u001b[32m   2641\u001b[39m         hatch=htch,\n\u001b[32m   2642\u001b[39m         )\n\u001b[32m   2643\u001b[39m     r._internal_update(kwargs)\n\u001b[32m   2644\u001b[39m     r.get_path()._interpolation_steps = \u001b[32m100\u001b[39m\n",
      "\u001b[36mFile \u001b[39m\u001b[32m~/miniconda3/envs/uranium/lib/python3.12/site-packages/matplotlib/patches.py:772\u001b[39m, in \u001b[36mRectangle.__init__\u001b[39m\u001b[34m(self, xy, width, height, angle, rotation_point, **kwargs)\u001b[39m\n\u001b[32m    748\u001b[39m \u001b[38;5;129m@_docstring\u001b[39m.interpd\n\u001b[32m    749\u001b[39m \u001b[38;5;28;01mdef\u001b[39;00m\u001b[38;5;250m \u001b[39m\u001b[34m__init__\u001b[39m(\u001b[38;5;28mself\u001b[39m, xy, width, height, *,\n\u001b[32m    750\u001b[39m              angle=\u001b[32m0.0\u001b[39m, rotation_point=\u001b[33m'\u001b[39m\u001b[33mxy\u001b[39m\u001b[33m'\u001b[39m, **kwargs):\n\u001b[32m    751\u001b[39m \u001b[38;5;250m    \u001b[39m\u001b[33;03m\"\"\"\u001b[39;00m\n\u001b[32m    752\u001b[39m \u001b[33;03m    Parameters\u001b[39;00m\n\u001b[32m    753\u001b[39m \u001b[33;03m    ----------\u001b[39;00m\n\u001b[32m   (...)\u001b[39m\u001b[32m    770\u001b[39m \u001b[33;03m        %(Patch:kwdoc)s\u001b[39;00m\n\u001b[32m    771\u001b[39m \u001b[33;03m    \"\"\"\u001b[39;00m\n\u001b[32m--> \u001b[39m\u001b[32m772\u001b[39m     \u001b[38;5;28msuper\u001b[39m().\u001b[34m__init__\u001b[39m(**kwargs)\n\u001b[32m    773\u001b[39m     \u001b[38;5;28mself\u001b[39m._x0 = xy[\u001b[32m0\u001b[39m]\n\u001b[32m    774\u001b[39m     \u001b[38;5;28mself\u001b[39m._y0 = xy[\u001b[32m1\u001b[39m]\n",
      "\u001b[36mFile \u001b[39m\u001b[32m~/miniconda3/envs/uranium/lib/python3.12/site-packages/matplotlib/patches.py:84\u001b[39m, in \u001b[36mPatch.__init__\u001b[39m\u001b[34m(self, edgecolor, facecolor, color, linewidth, linestyle, antialiased, hatch, fill, capstyle, joinstyle, **kwargs)\u001b[39m\n\u001b[32m     82\u001b[39m     \u001b[38;5;28mself\u001b[39m.set_color(color)\n\u001b[32m     83\u001b[39m \u001b[38;5;28;01melse\u001b[39;00m:\n\u001b[32m---> \u001b[39m\u001b[32m84\u001b[39m     \u001b[38;5;28mself\u001b[39m.set_edgecolor(edgecolor)\n\u001b[32m     85\u001b[39m     \u001b[38;5;28mself\u001b[39m.set_facecolor(facecolor)\n\u001b[32m     87\u001b[39m \u001b[38;5;28mself\u001b[39m._linewidth = \u001b[32m0\u001b[39m\n",
      "\u001b[36mFile \u001b[39m\u001b[32m~/miniconda3/envs/uranium/lib/python3.12/site-packages/matplotlib/patches.py:386\u001b[39m, in \u001b[36mPatch.set_edgecolor\u001b[39m\u001b[34m(self, color)\u001b[39m\n\u001b[32m    378\u001b[39m \u001b[38;5;250m\u001b[39m\u001b[33;03m\"\"\"\u001b[39;00m\n\u001b[32m    379\u001b[39m \u001b[33;03mSet the patch edge color.\u001b[39;00m\n\u001b[32m    380\u001b[39m \n\u001b[32m   (...)\u001b[39m\u001b[32m    383\u001b[39m \u001b[33;03mcolor : :mpltype:`color` or None\u001b[39;00m\n\u001b[32m    384\u001b[39m \u001b[33;03m\"\"\"\u001b[39;00m\n\u001b[32m    385\u001b[39m \u001b[38;5;28mself\u001b[39m._original_edgecolor = color\n\u001b[32m--> \u001b[39m\u001b[32m386\u001b[39m \u001b[38;5;28mself\u001b[39m._set_edgecolor(color)\n",
      "\u001b[36mFile \u001b[39m\u001b[32m~/miniconda3/envs/uranium/lib/python3.12/site-packages/matplotlib/patches.py:372\u001b[39m, in \u001b[36mPatch._set_edgecolor\u001b[39m\u001b[34m(self, color)\u001b[39m\n\u001b[32m    369\u001b[39m         color = \u001b[33m'\u001b[39m\u001b[33mnone\u001b[39m\u001b[33m'\u001b[39m\n\u001b[32m    370\u001b[39m         set_hatch_color = \u001b[38;5;28;01mFalse\u001b[39;00m\n\u001b[32m--> \u001b[39m\u001b[32m372\u001b[39m \u001b[38;5;28mself\u001b[39m._edgecolor = colors.to_rgba(color, \u001b[38;5;28mself\u001b[39m._alpha)\n\u001b[32m    373\u001b[39m \u001b[38;5;28;01mif\u001b[39;00m set_hatch_color:\n\u001b[32m    374\u001b[39m     \u001b[38;5;28mself\u001b[39m._hatch_color = \u001b[38;5;28mself\u001b[39m._edgecolor\n",
      "\u001b[36mFile \u001b[39m\u001b[32m~/miniconda3/envs/uranium/lib/python3.12/site-packages/matplotlib/colors.py:316\u001b[39m, in \u001b[36mto_rgba\u001b[39m\u001b[34m(c, alpha)\u001b[39m\n\u001b[32m    314\u001b[39m     rgba = \u001b[38;5;28;01mNone\u001b[39;00m\n\u001b[32m    315\u001b[39m \u001b[38;5;28;01mif\u001b[39;00m rgba \u001b[38;5;129;01mis\u001b[39;00m \u001b[38;5;28;01mNone\u001b[39;00m:  \u001b[38;5;66;03m# Suppress exception chaining of cache lookup failure.\u001b[39;00m\n\u001b[32m--> \u001b[39m\u001b[32m316\u001b[39m     rgba = _to_rgba_no_colorcycle(c, alpha)\n\u001b[32m    317\u001b[39m     \u001b[38;5;28;01mtry\u001b[39;00m:\n\u001b[32m    318\u001b[39m         _colors_full_map.cache[c, alpha] = rgba\n",
      "\u001b[36mFile \u001b[39m\u001b[32m~/miniconda3/envs/uranium/lib/python3.12/site-packages/matplotlib/colors.py:413\u001b[39m, in \u001b[36m_to_rgba_no_colorcycle\u001b[39m\u001b[34m(c, alpha)\u001b[39m\n\u001b[32m    411\u001b[39m \u001b[38;5;28;01mif\u001b[39;00m alpha \u001b[38;5;129;01mis\u001b[39;00m \u001b[38;5;129;01mnot\u001b[39;00m \u001b[38;5;28;01mNone\u001b[39;00m:\n\u001b[32m    412\u001b[39m     c = c[:\u001b[32m3\u001b[39m] + (alpha,)\n\u001b[32m--> \u001b[39m\u001b[32m413\u001b[39m \u001b[38;5;28;01mif\u001b[39;00m \u001b[38;5;28many\u001b[39m(elem < \u001b[32m0\u001b[39m \u001b[38;5;129;01mor\u001b[39;00m elem > \u001b[32m1\u001b[39m \u001b[38;5;28;01mfor\u001b[39;00m elem \u001b[38;5;129;01min\u001b[39;00m c):\n\u001b[32m    414\u001b[39m     \u001b[38;5;28;01mraise\u001b[39;00m \u001b[38;5;167;01mValueError\u001b[39;00m(\u001b[33m\"\u001b[39m\u001b[33mRGBA values should be within 0-1 range\u001b[39m\u001b[33m\"\u001b[39m)\n\u001b[32m    415\u001b[39m \u001b[38;5;28;01mreturn\u001b[39;00m c\n",
      "\u001b[36mFile \u001b[39m\u001b[32m~/miniconda3/envs/uranium/lib/python3.12/site-packages/matplotlib/colors.py:413\u001b[39m, in \u001b[36m<genexpr>\u001b[39m\u001b[34m(.0)\u001b[39m\n\u001b[32m    411\u001b[39m \u001b[38;5;28;01mif\u001b[39;00m alpha \u001b[38;5;129;01mis\u001b[39;00m \u001b[38;5;129;01mnot\u001b[39;00m \u001b[38;5;28;01mNone\u001b[39;00m:\n\u001b[32m    412\u001b[39m     c = c[:\u001b[32m3\u001b[39m] + (alpha,)\n\u001b[32m--> \u001b[39m\u001b[32m413\u001b[39m \u001b[38;5;28;01mif\u001b[39;00m \u001b[38;5;28many\u001b[39m(elem < \u001b[32m0\u001b[39m \u001b[38;5;129;01mor\u001b[39;00m elem > \u001b[32m1\u001b[39m \u001b[38;5;28;01mfor\u001b[39;00m elem \u001b[38;5;129;01min\u001b[39;00m c):\n\u001b[32m    414\u001b[39m     \u001b[38;5;28;01mraise\u001b[39;00m \u001b[38;5;167;01mValueError\u001b[39;00m(\u001b[33m\"\u001b[39m\u001b[33mRGBA values should be within 0-1 range\u001b[39m\u001b[33m\"\u001b[39m)\n\u001b[32m    415\u001b[39m \u001b[38;5;28;01mreturn\u001b[39;00m c\n",
      "\u001b[31mKeyboardInterrupt\u001b[39m: "
     ]
    }
   ],
   "source": [
    "sns.pairplot(df)"
   ]
  },
  {
   "cell_type": "markdown",
   "id": "fa267cec",
   "metadata": {},
   "source": [
    "## Data Cleaning\n",
    "---"
   ]
  },
  {
   "cell_type": "code",
   "execution_count": 4,
   "id": "4ee61b60",
   "metadata": {},
   "outputs": [
    {
     "name": "stdout",
     "output_type": "stream",
     "text": [
      "<class 'pandas.core.frame.DataFrame'>\n",
      "RangeIndex: 4281 entries, 0 to 4280\n",
      "Data columns (total 26 columns):\n",
      " #   Column                 Non-Null Count  Dtype  \n",
      "---  ------                 --------------  -----  \n",
      " 0   Year                   4281 non-null   int64  \n",
      " 1   State                  4281 non-null   object \n",
      " 2   District               4281 non-null   object \n",
      " 3   Block/Taluka           3345 non-null   object \n",
      " 4   Location/Site/Village  4281 non-null   object \n",
      " 5   Latitude               4281 non-null   float64\n",
      " 6   Longitude              4281 non-null   float64\n",
      " 7   pH                     4281 non-null   object \n",
      " 8   EC (µS/cm)             4273 non-null   float64\n",
      " 9   CO3 (mg/L)             4273 non-null   float64\n",
      " 10  HCO3 (mg/L)            4273 non-null   float64\n",
      " 11  Cl (mg/L)              4273 non-null   float64\n",
      " 12  F (mg/L)               4273 non-null   object \n",
      " 13  SO4 (mg/L)             4272 non-null   object \n",
      " 14  NO3 (mg/L)             4273 non-null   object \n",
      " 15  PO4 (mg/L)             4274 non-null   object \n",
      " 16  Total Hardness         4273 non-null   float64\n",
      " 17  Ca (mg/L)              4273 non-null   float64\n",
      " 18  Mg (mg/L)              4273 non-null   float64\n",
      " 19  Na (mg/L)              4273 non-null   float64\n",
      " 20  K (mg/L)               4272 non-null   object \n",
      " 21  SiO2                   1297 non-null   object \n",
      " 22  TDS                    1359 non-null   float64\n",
      " 23  Fe (ppm)               908 non-null    float64\n",
      " 24  As (ppb)               908 non-null    float64\n",
      " 25  U (ppb)                908 non-null    float64\n",
      "dtypes: float64(14), int64(1), object(11)\n",
      "memory usage: 869.7+ KB\n"
     ]
    }
   ],
   "source": [
    "df_clean = df.copy(deep=True)\n",
    "df_clean.info()"
   ]
  },
  {
   "cell_type": "markdown",
   "id": "7743ab4d",
   "metadata": {},
   "source": [
    "### From pH `object` to `float`"
   ]
  },
  {
   "cell_type": "code",
   "execution_count": 5,
   "id": "9b41daf4",
   "metadata": {},
   "outputs": [
    {
     "data": {
      "application/vnd.microsoft.datawrangler.viewer.v0+json": {
       "columns": [
        {
         "name": "pH",
         "rawType": "object",
         "type": "string"
        },
        {
         "name": "count",
         "rawType": "int64",
         "type": "integer"
        }
       ],
       "ref": "94106dd6-59aa-4016-a056-7477b3de76b6",
       "rows": [
        [
         "Leaked",
         "8"
        ]
       ],
       "shape": {
        "columns": 1,
        "rows": 1
       }
      },
      "text/plain": [
       "pH\n",
       "Leaked    8\n",
       "Name: count, dtype: int64"
      ]
     },
     "execution_count": 5,
     "metadata": {},
     "output_type": "execute_result"
    }
   ],
   "source": [
    "# Seeing why: this gives a list of  all unique non-float types\n",
    "df[\"pH\"][pd.to_numeric(df[\"pH\"], errors=\"coerce\").isna()].value_counts()"
   ]
  },
  {
   "cell_type": "code",
   "execution_count": 6,
   "id": "115589f6",
   "metadata": {},
   "outputs": [],
   "source": [
    "# Fixing this with NAs\n",
    "df_clean[\"pH\"] = pd.to_numeric(df[\"pH\"], errors=\"coerce\")"
   ]
  },
  {
   "cell_type": "code",
   "execution_count": 7,
   "id": "ff400210",
   "metadata": {},
   "outputs": [
    {
     "name": "stdout",
     "output_type": "stream",
     "text": [
      "<class 'pandas.core.frame.DataFrame'>\n",
      "RangeIndex: 4281 entries, 0 to 4280\n",
      "Data columns (total 26 columns):\n",
      " #   Column                 Non-Null Count  Dtype  \n",
      "---  ------                 --------------  -----  \n",
      " 0   Year                   4281 non-null   int64  \n",
      " 1   State                  4281 non-null   object \n",
      " 2   District               4281 non-null   object \n",
      " 3   Block/Taluka           3345 non-null   object \n",
      " 4   Location/Site/Village  4281 non-null   object \n",
      " 5   Latitude               4281 non-null   float64\n",
      " 6   Longitude              4281 non-null   float64\n",
      " 7   pH                     4273 non-null   float64\n",
      " 8   EC (µS/cm)             4273 non-null   float64\n",
      " 9   CO3 (mg/L)             4273 non-null   float64\n",
      " 10  HCO3 (mg/L)            4273 non-null   float64\n",
      " 11  Cl (mg/L)              4273 non-null   float64\n",
      " 12  F (mg/L)               4273 non-null   object \n",
      " 13  SO4 (mg/L)             4272 non-null   object \n",
      " 14  NO3 (mg/L)             4273 non-null   object \n",
      " 15  PO4 (mg/L)             4274 non-null   object \n",
      " 16  Total Hardness         4273 non-null   float64\n",
      " 17  Ca (mg/L)              4273 non-null   float64\n",
      " 18  Mg (mg/L)              4273 non-null   float64\n",
      " 19  Na (mg/L)              4273 non-null   float64\n",
      " 20  K (mg/L)               4272 non-null   object \n",
      " 21  SiO2                   1297 non-null   object \n",
      " 22  TDS                    1359 non-null   float64\n",
      " 23  Fe (ppm)               908 non-null    float64\n",
      " 24  As (ppb)               908 non-null    float64\n",
      " 25  U (ppb)                908 non-null    float64\n",
      "dtypes: float64(15), int64(1), object(10)\n",
      "memory usage: 869.7+ KB\n"
     ]
    }
   ],
   "source": [
    "df_clean.info()"
   ]
  },
  {
   "cell_type": "markdown",
   "id": "6b0d06ee",
   "metadata": {},
   "source": [
    "### From F `object` to `float`"
   ]
  },
  {
   "cell_type": "code",
   "execution_count": 8,
   "id": "be327664",
   "metadata": {},
   "outputs": [
    {
     "data": {
      "application/vnd.microsoft.datawrangler.viewer.v0+json": {
       "columns": [
        {
         "name": "F (mg/L)",
         "rawType": "object",
         "type": "string"
        },
        {
         "name": "count",
         "rawType": "int64",
         "type": "integer"
        }
       ],
       "ref": "48206c9c-3ef1-48ca-a2cb-59adaf8233f8",
       "rows": [
        [
         "ND",
         "1"
        ],
        [
         "<0.05",
         "1"
        ]
       ],
       "shape": {
        "columns": 1,
        "rows": 2
       }
      },
      "text/plain": [
       "F (mg/L)\n",
       "ND       1\n",
       "<0.05    1\n",
       "Name: count, dtype: int64"
      ]
     },
     "execution_count": 8,
     "metadata": {},
     "output_type": "execute_result"
    }
   ],
   "source": [
    "df[\"F (mg/L)\"][pd.to_numeric(df[\"F (mg/L)\"], errors=\"coerce\").isna()].value_counts()"
   ]
  },
  {
   "cell_type": "code",
   "execution_count": 9,
   "id": "9b181090",
   "metadata": {},
   "outputs": [],
   "source": [
    "df_clean[\"F (mg/L)\"] = df[\"F (mg/L)\"].replace(\"<0.05\", 0.05)\n",
    "df_clean[\"F (mg/L)\"] = df_clean[\"F (mg/L)\"].replace(\"ND\", np.nan)\n",
    "df_clean[\"F (mg/L)\"] = pd.to_numeric(df_clean[\"F (mg/L)\"], errors=\"coerce\")"
   ]
  },
  {
   "cell_type": "code",
   "execution_count": 10,
   "id": "16a4c347",
   "metadata": {},
   "outputs": [
    {
     "data": {
      "application/vnd.microsoft.datawrangler.viewer.v0+json": {
       "columns": [
        {
         "name": "F (mg/L)",
         "rawType": "float64",
         "type": "float"
        },
        {
         "name": "count",
         "rawType": "int64",
         "type": "integer"
        }
       ],
       "ref": "0183f772-db55-4f2f-bc72-780ef7c39928",
       "rows": [],
       "shape": {
        "columns": 1,
        "rows": 0
       }
      },
      "text/plain": [
       "Series([], Name: count, dtype: int64)"
      ]
     },
     "execution_count": 10,
     "metadata": {},
     "output_type": "execute_result"
    }
   ],
   "source": [
    "df_clean[\"F (mg/L)\"][\n",
    "    pd.to_numeric(df_clean[\"F (mg/L)\"], errors=\"coerce\").isna()\n",
    "].value_counts()"
   ]
  },
  {
   "cell_type": "code",
   "execution_count": 11,
   "id": "ea9461ad",
   "metadata": {},
   "outputs": [
    {
     "name": "stdout",
     "output_type": "stream",
     "text": [
      "<class 'pandas.core.frame.DataFrame'>\n",
      "RangeIndex: 4281 entries, 0 to 4280\n",
      "Data columns (total 26 columns):\n",
      " #   Column                 Non-Null Count  Dtype  \n",
      "---  ------                 --------------  -----  \n",
      " 0   Year                   4281 non-null   int64  \n",
      " 1   State                  4281 non-null   object \n",
      " 2   District               4281 non-null   object \n",
      " 3   Block/Taluka           3345 non-null   object \n",
      " 4   Location/Site/Village  4281 non-null   object \n",
      " 5   Latitude               4281 non-null   float64\n",
      " 6   Longitude              4281 non-null   float64\n",
      " 7   pH                     4273 non-null   float64\n",
      " 8   EC (µS/cm)             4273 non-null   float64\n",
      " 9   CO3 (mg/L)             4273 non-null   float64\n",
      " 10  HCO3 (mg/L)            4273 non-null   float64\n",
      " 11  Cl (mg/L)              4273 non-null   float64\n",
      " 12  F (mg/L)               4272 non-null   float64\n",
      " 13  SO4 (mg/L)             4272 non-null   object \n",
      " 14  NO3 (mg/L)             4273 non-null   object \n",
      " 15  PO4 (mg/L)             4274 non-null   object \n",
      " 16  Total Hardness         4273 non-null   float64\n",
      " 17  Ca (mg/L)              4273 non-null   float64\n",
      " 18  Mg (mg/L)              4273 non-null   float64\n",
      " 19  Na (mg/L)              4273 non-null   float64\n",
      " 20  K (mg/L)               4272 non-null   object \n",
      " 21  SiO2                   1297 non-null   object \n",
      " 22  TDS                    1359 non-null   float64\n",
      " 23  Fe (ppm)               908 non-null    float64\n",
      " 24  As (ppb)               908 non-null    float64\n",
      " 25  U (ppb)                908 non-null    float64\n",
      "dtypes: float64(16), int64(1), object(9)\n",
      "memory usage: 869.7+ KB\n"
     ]
    }
   ],
   "source": [
    "df_clean.info()"
   ]
  },
  {
   "cell_type": "markdown",
   "id": "5b4778d3",
   "metadata": {},
   "source": [
    "### Same with SO4, NO3, and PO4"
   ]
  },
  {
   "cell_type": "code",
   "execution_count": 12,
   "id": "887b2ea3",
   "metadata": {},
   "outputs": [
    {
     "data": {
      "application/vnd.microsoft.datawrangler.viewer.v0+json": {
       "columns": [
        {
         "name": "SO4 (mg/L)",
         "rawType": "object",
         "type": "string"
        },
        {
         "name": "count",
         "rawType": "int64",
         "type": "integer"
        }
       ],
       "ref": "cf60df23-aed9-4138-b73a-f78ad1ee0a98",
       "rows": [
        [
         "BDL",
         "62"
        ],
        [
         "ND",
         "1"
        ]
       ],
       "shape": {
        "columns": 1,
        "rows": 2
       }
      },
      "text/plain": [
       "SO4 (mg/L)\n",
       "BDL    62\n",
       "ND      1\n",
       "Name: count, dtype: int64"
      ]
     },
     "execution_count": 12,
     "metadata": {},
     "output_type": "execute_result"
    }
   ],
   "source": [
    "df[\"SO4 (mg/L)\"][pd.to_numeric(df[\"SO4 (mg/L)\"], errors=\"coerce\").isna()].value_counts()"
   ]
  },
  {
   "cell_type": "code",
   "execution_count": 13,
   "id": "dbcee5ee",
   "metadata": {},
   "outputs": [],
   "source": [
    "df_clean[\"SO4 (mg/L)\"] = pd.to_numeric(df[\"SO4 (mg/L)\"], errors=\"coerce\")"
   ]
  },
  {
   "cell_type": "code",
   "execution_count": 14,
   "id": "be622d4a",
   "metadata": {},
   "outputs": [
    {
     "data": {
      "application/vnd.microsoft.datawrangler.viewer.v0+json": {
       "columns": [
        {
         "name": "SO4 (mg/L)",
         "rawType": "float64",
         "type": "float"
        },
        {
         "name": "count",
         "rawType": "int64",
         "type": "integer"
        }
       ],
       "ref": "53079c4f-02cc-4dfd-a7de-620c39dcacff",
       "rows": [],
       "shape": {
        "columns": 1,
        "rows": 0
       }
      },
      "text/plain": [
       "Series([], Name: count, dtype: int64)"
      ]
     },
     "execution_count": 14,
     "metadata": {},
     "output_type": "execute_result"
    }
   ],
   "source": [
    "df_clean[\"SO4 (mg/L)\"][\n",
    "    pd.to_numeric(df_clean[\"SO4 (mg/L)\"], errors=\"coerce\").isna()\n",
    "].value_counts()"
   ]
  },
  {
   "cell_type": "code",
   "execution_count": 15,
   "id": "a608e8c8",
   "metadata": {},
   "outputs": [
    {
     "data": {
      "application/vnd.microsoft.datawrangler.viewer.v0+json": {
       "columns": [
        {
         "name": "NO3 (mg/L)",
         "rawType": "object",
         "type": "string"
        },
        {
         "name": "count",
         "rawType": "int64",
         "type": "integer"
        }
       ],
       "ref": "9eed3161-8d67-44ad-b9c8-159a7d9d2160",
       "rows": [
        [
         "BDL",
         "26"
        ]
       ],
       "shape": {
        "columns": 1,
        "rows": 1
       }
      },
      "text/plain": [
       "NO3 (mg/L)\n",
       "BDL    26\n",
       "Name: count, dtype: int64"
      ]
     },
     "execution_count": 15,
     "metadata": {},
     "output_type": "execute_result"
    }
   ],
   "source": [
    "df[\"NO3 (mg/L)\"][pd.to_numeric(df[\"NO3 (mg/L)\"], errors=\"coerce\").isna()].value_counts()"
   ]
  },
  {
   "cell_type": "code",
   "execution_count": 16,
   "id": "6ced8671",
   "metadata": {},
   "outputs": [],
   "source": [
    "df_clean[\"NO3 (mg/L)\"] = pd.to_numeric(df[\"NO3 (mg/L)\"], errors=\"coerce\")"
   ]
  },
  {
   "cell_type": "code",
   "execution_count": 17,
   "id": "616ffc91",
   "metadata": {},
   "outputs": [
    {
     "data": {
      "application/vnd.microsoft.datawrangler.viewer.v0+json": {
       "columns": [
        {
         "name": "NO3 (mg/L)",
         "rawType": "float64",
         "type": "float"
        },
        {
         "name": "count",
         "rawType": "int64",
         "type": "integer"
        }
       ],
       "ref": "bdfb97e4-450b-45da-9eca-f1954e379562",
       "rows": [],
       "shape": {
        "columns": 1,
        "rows": 0
       }
      },
      "text/plain": [
       "Series([], Name: count, dtype: int64)"
      ]
     },
     "execution_count": 17,
     "metadata": {},
     "output_type": "execute_result"
    }
   ],
   "source": [
    "df_clean[\"NO3 (mg/L)\"][\n",
    "    pd.to_numeric(df_clean[\"NO3 (mg/L)\"], errors=\"coerce\").isna()\n",
    "].value_counts()"
   ]
  },
  {
   "cell_type": "code",
   "execution_count": 18,
   "id": "01014254",
   "metadata": {},
   "outputs": [
    {
     "data": {
      "application/vnd.microsoft.datawrangler.viewer.v0+json": {
       "columns": [
        {
         "name": "PO4 (mg/L)",
         "rawType": "object",
         "type": "string"
        },
        {
         "name": "count",
         "rawType": "int64",
         "type": "integer"
        }
       ],
       "ref": "d9c54042-b5cd-4272-9585-936f14728bb2",
       "rows": [
        [
         "<0.10",
         "332"
        ],
        [
         "<0.1",
         "208"
        ],
        [
         "<0.01",
         "59"
        ],
        [
         "ND",
         "1"
        ]
       ],
       "shape": {
        "columns": 1,
        "rows": 4
       }
      },
      "text/plain": [
       "PO4 (mg/L)\n",
       "<0.10    332\n",
       "<0.1     208\n",
       "<0.01     59\n",
       "ND         1\n",
       "Name: count, dtype: int64"
      ]
     },
     "execution_count": 18,
     "metadata": {},
     "output_type": "execute_result"
    }
   ],
   "source": [
    "df[\"PO4 (mg/L)\"][pd.to_numeric(df[\"PO4 (mg/L)\"], errors=\"coerce\").isna()].value_counts()"
   ]
  },
  {
   "cell_type": "code",
   "execution_count": 19,
   "id": "d78cb87f",
   "metadata": {},
   "outputs": [],
   "source": [
    "df_clean[\"PO4 (mg/L)\"] = df_clean[\"PO4 (mg/L)\"].str.replace(\"<\", \"\")\n",
    "df_clean[\"PO4 (mg/L)\"] = pd.to_numeric(df_clean[\"PO4 (mg/L)\"], errors=\"coerce\")"
   ]
  },
  {
   "cell_type": "code",
   "execution_count": 20,
   "id": "3e8574dd",
   "metadata": {},
   "outputs": [
    {
     "data": {
      "application/vnd.microsoft.datawrangler.viewer.v0+json": {
       "columns": [
        {
         "name": "PO4 (mg/L)",
         "rawType": "float64",
         "type": "float"
        },
        {
         "name": "count",
         "rawType": "int64",
         "type": "integer"
        }
       ],
       "ref": "8a0e5c15-4356-495a-82b7-629e84dbd12c",
       "rows": [],
       "shape": {
        "columns": 1,
        "rows": 0
       }
      },
      "text/plain": [
       "Series([], Name: count, dtype: int64)"
      ]
     },
     "execution_count": 20,
     "metadata": {},
     "output_type": "execute_result"
    }
   ],
   "source": [
    "df_clean[\"PO4 (mg/L)\"][\n",
    "    pd.to_numeric(df_clean[\"PO4 (mg/L)\"], errors=\"coerce\").isna()\n",
    "].value_counts()"
   ]
  },
  {
   "cell_type": "code",
   "execution_count": 21,
   "id": "81bf4f0e",
   "metadata": {},
   "outputs": [
    {
     "name": "stdout",
     "output_type": "stream",
     "text": [
      "<class 'pandas.core.frame.DataFrame'>\n",
      "RangeIndex: 4281 entries, 0 to 4280\n",
      "Data columns (total 26 columns):\n",
      " #   Column                 Non-Null Count  Dtype  \n",
      "---  ------                 --------------  -----  \n",
      " 0   Year                   4281 non-null   int64  \n",
      " 1   State                  4281 non-null   object \n",
      " 2   District               4281 non-null   object \n",
      " 3   Block/Taluka           3345 non-null   object \n",
      " 4   Location/Site/Village  4281 non-null   object \n",
      " 5   Latitude               4281 non-null   float64\n",
      " 6   Longitude              4281 non-null   float64\n",
      " 7   pH                     4273 non-null   float64\n",
      " 8   EC (µS/cm)             4273 non-null   float64\n",
      " 9   CO3 (mg/L)             4273 non-null   float64\n",
      " 10  HCO3 (mg/L)            4273 non-null   float64\n",
      " 11  Cl (mg/L)              4273 non-null   float64\n",
      " 12  F (mg/L)               4272 non-null   float64\n",
      " 13  SO4 (mg/L)             4209 non-null   float64\n",
      " 14  NO3 (mg/L)             4247 non-null   float64\n",
      " 15  PO4 (mg/L)             4273 non-null   float64\n",
      " 16  Total Hardness         4273 non-null   float64\n",
      " 17  Ca (mg/L)              4273 non-null   float64\n",
      " 18  Mg (mg/L)              4273 non-null   float64\n",
      " 19  Na (mg/L)              4273 non-null   float64\n",
      " 20  K (mg/L)               4272 non-null   object \n",
      " 21  SiO2                   1297 non-null   object \n",
      " 22  TDS                    1359 non-null   float64\n",
      " 23  Fe (ppm)               908 non-null    float64\n",
      " 24  As (ppb)               908 non-null    float64\n",
      " 25  U (ppb)                908 non-null    float64\n",
      "dtypes: float64(19), int64(1), object(6)\n",
      "memory usage: 869.7+ KB\n"
     ]
    }
   ],
   "source": [
    "df_clean.info()"
   ]
  },
  {
   "cell_type": "markdown",
   "id": "844c04e3",
   "metadata": {},
   "source": [
    "### K & SiO2 `object` to `float`"
   ]
  },
  {
   "cell_type": "code",
   "execution_count": 22,
   "id": "55e6cf92",
   "metadata": {},
   "outputs": [
    {
     "data": {
      "application/vnd.microsoft.datawrangler.viewer.v0+json": {
       "columns": [
        {
         "name": "K (mg/L)",
         "rawType": "object",
         "type": "string"
        },
        {
         "name": "count",
         "rawType": "int64",
         "type": "integer"
        }
       ],
       "ref": "398ccebb-0ce0-4f5e-af1d-afa4849bdb1e",
       "rows": [
        [
         "<1",
         "1"
        ]
       ],
       "shape": {
        "columns": 1,
        "rows": 1
       }
      },
      "text/plain": [
       "K (mg/L)\n",
       "<1    1\n",
       "Name: count, dtype: int64"
      ]
     },
     "execution_count": 22,
     "metadata": {},
     "output_type": "execute_result"
    }
   ],
   "source": [
    "df[\"K (mg/L)\"][pd.to_numeric(df[\"K (mg/L)\"], errors=\"coerce\").isna()].value_counts()"
   ]
  },
  {
   "cell_type": "code",
   "execution_count": 23,
   "id": "7297f7db",
   "metadata": {},
   "outputs": [],
   "source": [
    "df_clean[\"K (mg/L)\"] = df[\"K (mg/L)\"].str.replace(\"<\", \"\")\n",
    "df_clean[\"K (mg/L)\"] = pd.to_numeric(df_clean[\"K (mg/L)\"], errors=\"coerce\")"
   ]
  },
  {
   "cell_type": "code",
   "execution_count": 24,
   "id": "b66f6df0",
   "metadata": {},
   "outputs": [
    {
     "data": {
      "application/vnd.microsoft.datawrangler.viewer.v0+json": {
       "columns": [
        {
         "name": "K (mg/L)",
         "rawType": "float64",
         "type": "float"
        },
        {
         "name": "count",
         "rawType": "int64",
         "type": "integer"
        }
       ],
       "ref": "4ec2e69b-d313-4c04-8da9-c5bfec732417",
       "rows": [],
       "shape": {
        "columns": 1,
        "rows": 0
       }
      },
      "text/plain": [
       "Series([], Name: count, dtype: int64)"
      ]
     },
     "execution_count": 24,
     "metadata": {},
     "output_type": "execute_result"
    }
   ],
   "source": [
    "df_clean[\"K (mg/L)\"][\n",
    "    pd.to_numeric(df_clean[\"K (mg/L)\"], errors=\"coerce\").isna()\n",
    "].value_counts()"
   ]
  },
  {
   "cell_type": "code",
   "execution_count": 25,
   "id": "f20982f0",
   "metadata": {},
   "outputs": [
    {
     "data": {
      "application/vnd.microsoft.datawrangler.viewer.v0+json": {
       "columns": [
        {
         "name": "SiO2",
         "rawType": "object",
         "type": "string"
        },
        {
         "name": "count",
         "rawType": "int64",
         "type": "integer"
        }
       ],
       "ref": "f40f28d9-ac76-4a0f-ab3d-d668d58bcc3a",
       "rows": [
        [
         "ND",
         "1"
        ]
       ],
       "shape": {
        "columns": 1,
        "rows": 1
       }
      },
      "text/plain": [
       "SiO2\n",
       "ND    1\n",
       "Name: count, dtype: int64"
      ]
     },
     "execution_count": 25,
     "metadata": {},
     "output_type": "execute_result"
    }
   ],
   "source": [
    "df[\"SiO2\"][pd.to_numeric(df[\"SiO2\"], errors=\"coerce\").isna()].value_counts()"
   ]
  },
  {
   "cell_type": "code",
   "execution_count": 26,
   "id": "a57adfec",
   "metadata": {},
   "outputs": [
    {
     "data": {
      "application/vnd.microsoft.datawrangler.viewer.v0+json": {
       "columns": [
        {
         "name": "SiO2",
         "rawType": "float64",
         "type": "float"
        },
        {
         "name": "count",
         "rawType": "int64",
         "type": "integer"
        }
       ],
       "ref": "fc88099b-67e2-41ad-b9bc-13964f8fe39c",
       "rows": [],
       "shape": {
        "columns": 1,
        "rows": 0
       }
      },
      "text/plain": [
       "Series([], Name: count, dtype: int64)"
      ]
     },
     "execution_count": 26,
     "metadata": {},
     "output_type": "execute_result"
    }
   ],
   "source": [
    "df_clean[\"SiO2\"] = pd.to_numeric(df[\"SiO2\"], errors=\"coerce\")\n",
    "df_clean[\"SiO2\"][pd.to_numeric(df_clean[\"SiO2\"], errors=\"coerce\").isna()].value_counts()"
   ]
  },
  {
   "cell_type": "code",
   "execution_count": 27,
   "id": "8a7a00aa",
   "metadata": {},
   "outputs": [
    {
     "name": "stdout",
     "output_type": "stream",
     "text": [
      "<class 'pandas.core.frame.DataFrame'>\n",
      "RangeIndex: 4281 entries, 0 to 4280\n",
      "Data columns (total 26 columns):\n",
      " #   Column                 Non-Null Count  Dtype  \n",
      "---  ------                 --------------  -----  \n",
      " 0   Year                   4281 non-null   int64  \n",
      " 1   State                  4281 non-null   object \n",
      " 2   District               4281 non-null   object \n",
      " 3   Block/Taluka           3345 non-null   object \n",
      " 4   Location/Site/Village  4281 non-null   object \n",
      " 5   Latitude               4281 non-null   float64\n",
      " 6   Longitude              4281 non-null   float64\n",
      " 7   pH                     4273 non-null   float64\n",
      " 8   EC (µS/cm)             4273 non-null   float64\n",
      " 9   CO3 (mg/L)             4273 non-null   float64\n",
      " 10  HCO3 (mg/L)            4273 non-null   float64\n",
      " 11  Cl (mg/L)              4273 non-null   float64\n",
      " 12  F (mg/L)               4272 non-null   float64\n",
      " 13  SO4 (mg/L)             4209 non-null   float64\n",
      " 14  NO3 (mg/L)             4247 non-null   float64\n",
      " 15  PO4 (mg/L)             4273 non-null   float64\n",
      " 16  Total Hardness         4273 non-null   float64\n",
      " 17  Ca (mg/L)              4273 non-null   float64\n",
      " 18  Mg (mg/L)              4273 non-null   float64\n",
      " 19  Na (mg/L)              4273 non-null   float64\n",
      " 20  K (mg/L)               4272 non-null   float64\n",
      " 21  SiO2                   1296 non-null   float64\n",
      " 22  TDS                    1359 non-null   float64\n",
      " 23  Fe (ppm)               908 non-null    float64\n",
      " 24  As (ppb)               908 non-null    float64\n",
      " 25  U (ppb)                908 non-null    float64\n",
      "dtypes: float64(21), int64(1), object(4)\n",
      "memory usage: 869.7+ KB\n"
     ]
    }
   ],
   "source": [
    "df_clean.info()"
   ]
  },
  {
   "cell_type": "code",
   "execution_count": 28,
   "id": "a4ab9181",
   "metadata": {},
   "outputs": [
    {
     "data": {
      "application/vnd.microsoft.datawrangler.viewer.v0+json": {
       "columns": [
        {
         "name": "index",
         "rawType": "int64",
         "type": "integer"
        },
        {
         "name": "Year",
         "rawType": "int64",
         "type": "integer"
        },
        {
         "name": "State",
         "rawType": "object",
         "type": "string"
        },
        {
         "name": "District",
         "rawType": "object",
         "type": "string"
        },
        {
         "name": "Block/Taluka",
         "rawType": "object",
         "type": "unknown"
        },
        {
         "name": "Location/Site/Village",
         "rawType": "object",
         "type": "string"
        },
        {
         "name": "Latitude",
         "rawType": "float64",
         "type": "float"
        },
        {
         "name": "Longitude",
         "rawType": "float64",
         "type": "float"
        },
        {
         "name": "pH",
         "rawType": "float64",
         "type": "float"
        },
        {
         "name": "EC (µS/cm)",
         "rawType": "float64",
         "type": "float"
        },
        {
         "name": "CO3 (mg/L)",
         "rawType": "float64",
         "type": "float"
        },
        {
         "name": "HCO3 (mg/L)",
         "rawType": "float64",
         "type": "float"
        },
        {
         "name": "Cl (mg/L)",
         "rawType": "float64",
         "type": "float"
        },
        {
         "name": "F (mg/L)",
         "rawType": "float64",
         "type": "float"
        },
        {
         "name": "SO4 (mg/L)",
         "rawType": "float64",
         "type": "float"
        },
        {
         "name": "NO3 (mg/L)",
         "rawType": "float64",
         "type": "float"
        },
        {
         "name": "PO4 (mg/L)",
         "rawType": "float64",
         "type": "float"
        },
        {
         "name": "Total Hardness",
         "rawType": "float64",
         "type": "float"
        },
        {
         "name": "Ca (mg/L)",
         "rawType": "float64",
         "type": "float"
        },
        {
         "name": "Mg (mg/L)",
         "rawType": "float64",
         "type": "float"
        },
        {
         "name": "Na (mg/L)",
         "rawType": "float64",
         "type": "float"
        },
        {
         "name": "K (mg/L)",
         "rawType": "float64",
         "type": "float"
        },
        {
         "name": "SiO2",
         "rawType": "float64",
         "type": "float"
        },
        {
         "name": "TDS",
         "rawType": "float64",
         "type": "float"
        },
        {
         "name": "Fe (ppm)",
         "rawType": "float64",
         "type": "float"
        },
        {
         "name": "As (ppb)",
         "rawType": "float64",
         "type": "float"
        },
        {
         "name": "U (ppb)",
         "rawType": "float64",
         "type": "float"
        }
       ],
       "ref": "479e3978-f45b-4a69-a5f8-a6333fb45dfa",
       "rows": [
        [
         "0",
         "2023",
         "Punjab",
         "Amritsar",
         null,
         "Jagdev Khurd (Dalla)",
         "31.907",
         "74.7391",
         "7.58",
         "1233.0",
         "0.0",
         "476.0",
         "92.0",
         "0.61",
         "19.0",
         "2.0",
         "0.0",
         "380.0",
         "96.0",
         "34.0",
         "65.0",
         "14.0",
         null,
         null,
         "1.11",
         "35.9",
         "0.57"
        ],
        [
         "1",
         "2023",
         "Punjab",
         "Amritsar",
         null,
         "Laungo Mahal",
         "31.9059",
         "74.8189",
         "7.96",
         "683.0",
         "0.0",
         "415.0",
         "35.0",
         "0.62",
         "0.0",
         "0.0",
         "0.0",
         "200.0",
         "40.0",
         "24.0",
         "87.0",
         "6.0",
         null,
         null,
         "0.04",
         "54.06",
         "3.77"
        ],
        [
         "2",
         "2023",
         "Punjab",
         "Amritsar",
         null,
         "Makowal",
         "31.9046",
         "74.8904",
         "8.2",
         "412.0",
         "0.0",
         "254.0",
         "21.0",
         "0.56",
         "0.0",
         "0.0",
         "0.0",
         "180.0",
         "32.0",
         "24.0",
         "21.0",
         "7.0",
         null,
         null,
         "0.05",
         "44.44",
         "3.04"
        ],
        [
         "3",
         "2023",
         "Punjab",
         "Amritsar",
         null,
         "Malakpur",
         "31.9534",
         "74.8453",
         "8.2",
         "442.0",
         "0.0",
         "220.0",
         "21.0",
         "0.48",
         "0.0",
         "1.0",
         "0.0",
         "170.0",
         "32.0",
         "22.0",
         "20.0",
         "5.0",
         null,
         null,
         "1.76",
         "35.85",
         "1.04"
        ],
        [
         "4",
         "2023",
         "Punjab",
         "Amritsar",
         null,
         "Ramdas",
         "31.9667",
         "74.9111",
         "8.1",
         "373.0",
         "0.0",
         "238.0",
         "14.0",
         "0.83",
         "0.0",
         "0.0",
         "0.0",
         "110.0",
         "24.0",
         "12.0",
         "47.0",
         "4.0",
         null,
         null,
         "0.05",
         "36.31",
         "0.11"
        ]
       ],
       "shape": {
        "columns": 26,
        "rows": 5
       }
      },
      "text/html": [
       "<div>\n",
       "<style scoped>\n",
       "    .dataframe tbody tr th:only-of-type {\n",
       "        vertical-align: middle;\n",
       "    }\n",
       "\n",
       "    .dataframe tbody tr th {\n",
       "        vertical-align: top;\n",
       "    }\n",
       "\n",
       "    .dataframe thead th {\n",
       "        text-align: right;\n",
       "    }\n",
       "</style>\n",
       "<table border=\"1\" class=\"dataframe\">\n",
       "  <thead>\n",
       "    <tr style=\"text-align: right;\">\n",
       "      <th></th>\n",
       "      <th>Year</th>\n",
       "      <th>State</th>\n",
       "      <th>District</th>\n",
       "      <th>Block/Taluka</th>\n",
       "      <th>Location/Site/Village</th>\n",
       "      <th>Latitude</th>\n",
       "      <th>Longitude</th>\n",
       "      <th>pH</th>\n",
       "      <th>EC (µS/cm)</th>\n",
       "      <th>CO3 (mg/L)</th>\n",
       "      <th>...</th>\n",
       "      <th>Total Hardness</th>\n",
       "      <th>Ca (mg/L)</th>\n",
       "      <th>Mg (mg/L)</th>\n",
       "      <th>Na (mg/L)</th>\n",
       "      <th>K (mg/L)</th>\n",
       "      <th>SiO2</th>\n",
       "      <th>TDS</th>\n",
       "      <th>Fe (ppm)</th>\n",
       "      <th>As (ppb)</th>\n",
       "      <th>U (ppb)</th>\n",
       "    </tr>\n",
       "  </thead>\n",
       "  <tbody>\n",
       "    <tr>\n",
       "      <th>0</th>\n",
       "      <td>2023</td>\n",
       "      <td>Punjab</td>\n",
       "      <td>Amritsar</td>\n",
       "      <td>NaN</td>\n",
       "      <td>Jagdev Khurd (Dalla)</td>\n",
       "      <td>31.9070</td>\n",
       "      <td>74.7391</td>\n",
       "      <td>7.58</td>\n",
       "      <td>1233.0</td>\n",
       "      <td>0.0</td>\n",
       "      <td>...</td>\n",
       "      <td>380.0</td>\n",
       "      <td>96.0</td>\n",
       "      <td>34.0</td>\n",
       "      <td>65.0</td>\n",
       "      <td>14.0</td>\n",
       "      <td>NaN</td>\n",
       "      <td>NaN</td>\n",
       "      <td>1.11</td>\n",
       "      <td>35.90</td>\n",
       "      <td>0.57</td>\n",
       "    </tr>\n",
       "    <tr>\n",
       "      <th>1</th>\n",
       "      <td>2023</td>\n",
       "      <td>Punjab</td>\n",
       "      <td>Amritsar</td>\n",
       "      <td>NaN</td>\n",
       "      <td>Laungo Mahal</td>\n",
       "      <td>31.9059</td>\n",
       "      <td>74.8189</td>\n",
       "      <td>7.96</td>\n",
       "      <td>683.0</td>\n",
       "      <td>0.0</td>\n",
       "      <td>...</td>\n",
       "      <td>200.0</td>\n",
       "      <td>40.0</td>\n",
       "      <td>24.0</td>\n",
       "      <td>87.0</td>\n",
       "      <td>6.0</td>\n",
       "      <td>NaN</td>\n",
       "      <td>NaN</td>\n",
       "      <td>0.04</td>\n",
       "      <td>54.06</td>\n",
       "      <td>3.77</td>\n",
       "    </tr>\n",
       "    <tr>\n",
       "      <th>2</th>\n",
       "      <td>2023</td>\n",
       "      <td>Punjab</td>\n",
       "      <td>Amritsar</td>\n",
       "      <td>NaN</td>\n",
       "      <td>Makowal</td>\n",
       "      <td>31.9046</td>\n",
       "      <td>74.8904</td>\n",
       "      <td>8.20</td>\n",
       "      <td>412.0</td>\n",
       "      <td>0.0</td>\n",
       "      <td>...</td>\n",
       "      <td>180.0</td>\n",
       "      <td>32.0</td>\n",
       "      <td>24.0</td>\n",
       "      <td>21.0</td>\n",
       "      <td>7.0</td>\n",
       "      <td>NaN</td>\n",
       "      <td>NaN</td>\n",
       "      <td>0.05</td>\n",
       "      <td>44.44</td>\n",
       "      <td>3.04</td>\n",
       "    </tr>\n",
       "    <tr>\n",
       "      <th>3</th>\n",
       "      <td>2023</td>\n",
       "      <td>Punjab</td>\n",
       "      <td>Amritsar</td>\n",
       "      <td>NaN</td>\n",
       "      <td>Malakpur</td>\n",
       "      <td>31.9534</td>\n",
       "      <td>74.8453</td>\n",
       "      <td>8.20</td>\n",
       "      <td>442.0</td>\n",
       "      <td>0.0</td>\n",
       "      <td>...</td>\n",
       "      <td>170.0</td>\n",
       "      <td>32.0</td>\n",
       "      <td>22.0</td>\n",
       "      <td>20.0</td>\n",
       "      <td>5.0</td>\n",
       "      <td>NaN</td>\n",
       "      <td>NaN</td>\n",
       "      <td>1.76</td>\n",
       "      <td>35.85</td>\n",
       "      <td>1.04</td>\n",
       "    </tr>\n",
       "    <tr>\n",
       "      <th>4</th>\n",
       "      <td>2023</td>\n",
       "      <td>Punjab</td>\n",
       "      <td>Amritsar</td>\n",
       "      <td>NaN</td>\n",
       "      <td>Ramdas</td>\n",
       "      <td>31.9667</td>\n",
       "      <td>74.9111</td>\n",
       "      <td>8.10</td>\n",
       "      <td>373.0</td>\n",
       "      <td>0.0</td>\n",
       "      <td>...</td>\n",
       "      <td>110.0</td>\n",
       "      <td>24.0</td>\n",
       "      <td>12.0</td>\n",
       "      <td>47.0</td>\n",
       "      <td>4.0</td>\n",
       "      <td>NaN</td>\n",
       "      <td>NaN</td>\n",
       "      <td>0.05</td>\n",
       "      <td>36.31</td>\n",
       "      <td>0.11</td>\n",
       "    </tr>\n",
       "  </tbody>\n",
       "</table>\n",
       "<p>5 rows × 26 columns</p>\n",
       "</div>"
      ],
      "text/plain": [
       "   Year   State  District Block/Taluka Location/Site/Village  Latitude  \\\n",
       "0  2023  Punjab  Amritsar          NaN  Jagdev Khurd (Dalla)   31.9070   \n",
       "1  2023  Punjab  Amritsar          NaN          Laungo Mahal   31.9059   \n",
       "2  2023  Punjab  Amritsar          NaN               Makowal   31.9046   \n",
       "3  2023  Punjab  Amritsar          NaN              Malakpur   31.9534   \n",
       "4  2023  Punjab  Amritsar          NaN                Ramdas   31.9667   \n",
       "\n",
       "   Longitude    pH  EC (µS/cm)  CO3 (mg/L)  ...  Total Hardness  Ca (mg/L)  \\\n",
       "0    74.7391  7.58      1233.0         0.0  ...           380.0       96.0   \n",
       "1    74.8189  7.96       683.0         0.0  ...           200.0       40.0   \n",
       "2    74.8904  8.20       412.0         0.0  ...           180.0       32.0   \n",
       "3    74.8453  8.20       442.0         0.0  ...           170.0       32.0   \n",
       "4    74.9111  8.10       373.0         0.0  ...           110.0       24.0   \n",
       "\n",
       "   Mg (mg/L)  Na (mg/L)  K (mg/L)  SiO2  TDS  Fe (ppm)  As (ppb)  U (ppb)  \n",
       "0       34.0       65.0      14.0   NaN  NaN      1.11     35.90     0.57  \n",
       "1       24.0       87.0       6.0   NaN  NaN      0.04     54.06     3.77  \n",
       "2       24.0       21.0       7.0   NaN  NaN      0.05     44.44     3.04  \n",
       "3       22.0       20.0       5.0   NaN  NaN      1.76     35.85     1.04  \n",
       "4       12.0       47.0       4.0   NaN  NaN      0.05     36.31     0.11  \n",
       "\n",
       "[5 rows x 26 columns]"
      ]
     },
     "execution_count": 28,
     "metadata": {},
     "output_type": "execute_result"
    }
   ],
   "source": [
    "df_clean.head()"
   ]
  },
  {
   "cell_type": "markdown",
   "id": "e90946c8",
   "metadata": {},
   "source": [
    "## Initial EDA\n",
    "---"
   ]
  },
  {
   "cell_type": "code",
   "execution_count": 32,
   "id": "f2e9f2ea",
   "metadata": {},
   "outputs": [
    {
     "data": {
      "application/vnd.microsoft.datawrangler.viewer.v0+json": {
       "columns": [
        {
         "name": "index",
         "rawType": "int64",
         "type": "integer"
        },
        {
         "name": "Year",
         "rawType": "int64",
         "type": "integer"
        },
        {
         "name": "Latitude",
         "rawType": "float64",
         "type": "float"
        },
        {
         "name": "Longitude",
         "rawType": "float64",
         "type": "float"
        },
        {
         "name": "pH",
         "rawType": "float64",
         "type": "float"
        },
        {
         "name": "EC (µS/cm)",
         "rawType": "float64",
         "type": "float"
        },
        {
         "name": "CO3 (mg/L)",
         "rawType": "float64",
         "type": "float"
        },
        {
         "name": "HCO3 (mg/L)",
         "rawType": "float64",
         "type": "float"
        },
        {
         "name": "Cl (mg/L)",
         "rawType": "float64",
         "type": "float"
        },
        {
         "name": "F (mg/L)",
         "rawType": "float64",
         "type": "float"
        },
        {
         "name": "SO4 (mg/L)",
         "rawType": "float64",
         "type": "float"
        },
        {
         "name": "NO3 (mg/L)",
         "rawType": "float64",
         "type": "float"
        },
        {
         "name": "PO4 (mg/L)",
         "rawType": "float64",
         "type": "float"
        },
        {
         "name": "Total Hardness",
         "rawType": "float64",
         "type": "float"
        },
        {
         "name": "Ca (mg/L)",
         "rawType": "float64",
         "type": "float"
        },
        {
         "name": "Mg (mg/L)",
         "rawType": "float64",
         "type": "float"
        },
        {
         "name": "Na (mg/L)",
         "rawType": "float64",
         "type": "float"
        },
        {
         "name": "K (mg/L)",
         "rawType": "float64",
         "type": "float"
        },
        {
         "name": "SiO2",
         "rawType": "float64",
         "type": "float"
        },
        {
         "name": "TDS",
         "rawType": "float64",
         "type": "float"
        },
        {
         "name": "Fe (ppm)",
         "rawType": "float64",
         "type": "float"
        },
        {
         "name": "As (ppb)",
         "rawType": "float64",
         "type": "float"
        },
        {
         "name": "U (ppb)",
         "rawType": "float64",
         "type": "float"
        }
       ],
       "ref": "433ab310-5087-457f-bb3d-48e60c9a1e5e",
       "rows": [
        [
         "0",
         "2023",
         "31.907",
         "74.7391",
         "7.58",
         "1233.0",
         "0.0",
         "476.0",
         "92.0",
         "0.61",
         "19.0",
         "2.0",
         "0.0",
         "380.0",
         "96.0",
         "34.0",
         "65.0",
         "14.0",
         null,
         null,
         "1.11",
         "35.9",
         "0.57"
        ],
        [
         "1",
         "2023",
         "31.9059",
         "74.8189",
         "7.96",
         "683.0",
         "0.0",
         "415.0",
         "35.0",
         "0.62",
         "0.0",
         "0.0",
         "0.0",
         "200.0",
         "40.0",
         "24.0",
         "87.0",
         "6.0",
         null,
         null,
         "0.04",
         "54.06",
         "3.77"
        ],
        [
         "2",
         "2023",
         "31.9046",
         "74.8904",
         "8.2",
         "412.0",
         "0.0",
         "254.0",
         "21.0",
         "0.56",
         "0.0",
         "0.0",
         "0.0",
         "180.0",
         "32.0",
         "24.0",
         "21.0",
         "7.0",
         null,
         null,
         "0.05",
         "44.44",
         "3.04"
        ],
        [
         "3",
         "2023",
         "31.9534",
         "74.8453",
         "8.2",
         "442.0",
         "0.0",
         "220.0",
         "21.0",
         "0.48",
         "0.0",
         "1.0",
         "0.0",
         "170.0",
         "32.0",
         "22.0",
         "20.0",
         "5.0",
         null,
         null,
         "1.76",
         "35.85",
         "1.04"
        ],
        [
         "4",
         "2023",
         "31.9667",
         "74.9111",
         "8.1",
         "373.0",
         "0.0",
         "238.0",
         "14.0",
         "0.83",
         "0.0",
         "0.0",
         "0.0",
         "110.0",
         "24.0",
         "12.0",
         "47.0",
         "4.0",
         null,
         null,
         "0.05",
         "36.31",
         "0.11"
        ]
       ],
       "shape": {
        "columns": 22,
        "rows": 5
       }
      },
      "text/html": [
       "<div>\n",
       "<style scoped>\n",
       "    .dataframe tbody tr th:only-of-type {\n",
       "        vertical-align: middle;\n",
       "    }\n",
       "\n",
       "    .dataframe tbody tr th {\n",
       "        vertical-align: top;\n",
       "    }\n",
       "\n",
       "    .dataframe thead th {\n",
       "        text-align: right;\n",
       "    }\n",
       "</style>\n",
       "<table border=\"1\" class=\"dataframe\">\n",
       "  <thead>\n",
       "    <tr style=\"text-align: right;\">\n",
       "      <th></th>\n",
       "      <th>Year</th>\n",
       "      <th>Latitude</th>\n",
       "      <th>Longitude</th>\n",
       "      <th>pH</th>\n",
       "      <th>EC (µS/cm)</th>\n",
       "      <th>CO3 (mg/L)</th>\n",
       "      <th>HCO3 (mg/L)</th>\n",
       "      <th>Cl (mg/L)</th>\n",
       "      <th>F (mg/L)</th>\n",
       "      <th>SO4 (mg/L)</th>\n",
       "      <th>...</th>\n",
       "      <th>Total Hardness</th>\n",
       "      <th>Ca (mg/L)</th>\n",
       "      <th>Mg (mg/L)</th>\n",
       "      <th>Na (mg/L)</th>\n",
       "      <th>K (mg/L)</th>\n",
       "      <th>SiO2</th>\n",
       "      <th>TDS</th>\n",
       "      <th>Fe (ppm)</th>\n",
       "      <th>As (ppb)</th>\n",
       "      <th>U (ppb)</th>\n",
       "    </tr>\n",
       "  </thead>\n",
       "  <tbody>\n",
       "    <tr>\n",
       "      <th>0</th>\n",
       "      <td>2023</td>\n",
       "      <td>31.9070</td>\n",
       "      <td>74.7391</td>\n",
       "      <td>7.58</td>\n",
       "      <td>1233.0</td>\n",
       "      <td>0.0</td>\n",
       "      <td>476.0</td>\n",
       "      <td>92.0</td>\n",
       "      <td>0.61</td>\n",
       "      <td>19.0</td>\n",
       "      <td>...</td>\n",
       "      <td>380.0</td>\n",
       "      <td>96.0</td>\n",
       "      <td>34.0</td>\n",
       "      <td>65.0</td>\n",
       "      <td>14.0</td>\n",
       "      <td>NaN</td>\n",
       "      <td>NaN</td>\n",
       "      <td>1.11</td>\n",
       "      <td>35.90</td>\n",
       "      <td>0.57</td>\n",
       "    </tr>\n",
       "    <tr>\n",
       "      <th>1</th>\n",
       "      <td>2023</td>\n",
       "      <td>31.9059</td>\n",
       "      <td>74.8189</td>\n",
       "      <td>7.96</td>\n",
       "      <td>683.0</td>\n",
       "      <td>0.0</td>\n",
       "      <td>415.0</td>\n",
       "      <td>35.0</td>\n",
       "      <td>0.62</td>\n",
       "      <td>0.0</td>\n",
       "      <td>...</td>\n",
       "      <td>200.0</td>\n",
       "      <td>40.0</td>\n",
       "      <td>24.0</td>\n",
       "      <td>87.0</td>\n",
       "      <td>6.0</td>\n",
       "      <td>NaN</td>\n",
       "      <td>NaN</td>\n",
       "      <td>0.04</td>\n",
       "      <td>54.06</td>\n",
       "      <td>3.77</td>\n",
       "    </tr>\n",
       "    <tr>\n",
       "      <th>2</th>\n",
       "      <td>2023</td>\n",
       "      <td>31.9046</td>\n",
       "      <td>74.8904</td>\n",
       "      <td>8.20</td>\n",
       "      <td>412.0</td>\n",
       "      <td>0.0</td>\n",
       "      <td>254.0</td>\n",
       "      <td>21.0</td>\n",
       "      <td>0.56</td>\n",
       "      <td>0.0</td>\n",
       "      <td>...</td>\n",
       "      <td>180.0</td>\n",
       "      <td>32.0</td>\n",
       "      <td>24.0</td>\n",
       "      <td>21.0</td>\n",
       "      <td>7.0</td>\n",
       "      <td>NaN</td>\n",
       "      <td>NaN</td>\n",
       "      <td>0.05</td>\n",
       "      <td>44.44</td>\n",
       "      <td>3.04</td>\n",
       "    </tr>\n",
       "    <tr>\n",
       "      <th>3</th>\n",
       "      <td>2023</td>\n",
       "      <td>31.9534</td>\n",
       "      <td>74.8453</td>\n",
       "      <td>8.20</td>\n",
       "      <td>442.0</td>\n",
       "      <td>0.0</td>\n",
       "      <td>220.0</td>\n",
       "      <td>21.0</td>\n",
       "      <td>0.48</td>\n",
       "      <td>0.0</td>\n",
       "      <td>...</td>\n",
       "      <td>170.0</td>\n",
       "      <td>32.0</td>\n",
       "      <td>22.0</td>\n",
       "      <td>20.0</td>\n",
       "      <td>5.0</td>\n",
       "      <td>NaN</td>\n",
       "      <td>NaN</td>\n",
       "      <td>1.76</td>\n",
       "      <td>35.85</td>\n",
       "      <td>1.04</td>\n",
       "    </tr>\n",
       "    <tr>\n",
       "      <th>4</th>\n",
       "      <td>2023</td>\n",
       "      <td>31.9667</td>\n",
       "      <td>74.9111</td>\n",
       "      <td>8.10</td>\n",
       "      <td>373.0</td>\n",
       "      <td>0.0</td>\n",
       "      <td>238.0</td>\n",
       "      <td>14.0</td>\n",
       "      <td>0.83</td>\n",
       "      <td>0.0</td>\n",
       "      <td>...</td>\n",
       "      <td>110.0</td>\n",
       "      <td>24.0</td>\n",
       "      <td>12.0</td>\n",
       "      <td>47.0</td>\n",
       "      <td>4.0</td>\n",
       "      <td>NaN</td>\n",
       "      <td>NaN</td>\n",
       "      <td>0.05</td>\n",
       "      <td>36.31</td>\n",
       "      <td>0.11</td>\n",
       "    </tr>\n",
       "  </tbody>\n",
       "</table>\n",
       "<p>5 rows × 22 columns</p>\n",
       "</div>"
      ],
      "text/plain": [
       "   Year  Latitude  Longitude    pH  EC (µS/cm)  CO3 (mg/L)  HCO3 (mg/L)  \\\n",
       "0  2023   31.9070    74.7391  7.58      1233.0         0.0        476.0   \n",
       "1  2023   31.9059    74.8189  7.96       683.0         0.0        415.0   \n",
       "2  2023   31.9046    74.8904  8.20       412.0         0.0        254.0   \n",
       "3  2023   31.9534    74.8453  8.20       442.0         0.0        220.0   \n",
       "4  2023   31.9667    74.9111  8.10       373.0         0.0        238.0   \n",
       "\n",
       "   Cl (mg/L)  F (mg/L)  SO4 (mg/L)  ...  Total Hardness  Ca (mg/L)  Mg (mg/L)  \\\n",
       "0       92.0      0.61        19.0  ...           380.0       96.0       34.0   \n",
       "1       35.0      0.62         0.0  ...           200.0       40.0       24.0   \n",
       "2       21.0      0.56         0.0  ...           180.0       32.0       24.0   \n",
       "3       21.0      0.48         0.0  ...           170.0       32.0       22.0   \n",
       "4       14.0      0.83         0.0  ...           110.0       24.0       12.0   \n",
       "\n",
       "   Na (mg/L)  K (mg/L)  SiO2  TDS  Fe (ppm)  As (ppb)  U (ppb)  \n",
       "0       65.0      14.0   NaN  NaN      1.11     35.90     0.57  \n",
       "1       87.0       6.0   NaN  NaN      0.04     54.06     3.77  \n",
       "2       21.0       7.0   NaN  NaN      0.05     44.44     3.04  \n",
       "3       20.0       5.0   NaN  NaN      1.76     35.85     1.04  \n",
       "4       47.0       4.0   NaN  NaN      0.05     36.31     0.11  \n",
       "\n",
       "[5 rows x 22 columns]"
      ]
     },
     "execution_count": 32,
     "metadata": {},
     "output_type": "execute_result"
    }
   ],
   "source": [
    "# Dropping non-numeric shit\n",
    "df_numeric = df_clean.drop(columns=df_clean.columns[1:5])\n",
    "df_numeric.head()"
   ]
  },
  {
   "cell_type": "code",
   "execution_count": 40,
   "id": "87d8edd5",
   "metadata": {},
   "outputs": [
    {
     "data": {
      "text/plain": [
       "<Axes: >"
      ]
     },
     "execution_count": 40,
     "metadata": {},
     "output_type": "execute_result"
    },
    {
     "data": {
      "image/png": "[encoded data removed]",
      "text/plain": [
       "<Figure size 1200x1000 with 2 Axes>"
      ]
     },
     "metadata": {},
     "output_type": "display_data"
    }
   ],
   "source": [
    "plt.figure(figsize=(12, 10))\n",
    "sns.heatmap(df_numeric.corr(), cmap=\"coolwarm\")"
   ]
  }
 ],
 "metadata": {
  "kernelspec": {
   "display_name": "uranium",
   "language": "python",
   "name": "python3"
  },
  "language_info": {
   "codemirror_mode": {
    "name": "ipython",
    "version": 3
   },
   "file_extension": ".py",
   "mimetype": "text/x-python",
   "name": "python",
   "nbconvert_exporter": "python",
   "pygments_lexer": "ipython3",
   "version": "3.12.11"
  }
 },
 "nbformat": 4,
 "nbformat_minor": 5
}
