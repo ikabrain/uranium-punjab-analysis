{
 "cells": [
  {
   "cell_type": "markdown",
   "id": "ee20249a",
   "metadata": {},
   "source": [
    "# Relating Uranium Concentration with other parameters\n",
    "---"
   ]
  },
  {
   "cell_type": "code",
   "execution_count": 1,
   "id": "f1906524",
   "metadata": {},
   "outputs": [],
   "source": [
    "import numpy as np\n",
    "import pandas as pd\n",
    "import matplotlib as mp\n",
    "import seaborn as sns\n",
    "\n",
    "%matplotlib inline"
   ]
  },
  {
   "cell_type": "code",
   "execution_count": 2,
   "id": "a3511e76",
   "metadata": {},
   "outputs": [
    {
     "data": {
      "application/vnd.microsoft.datawrangler.viewer.v0+json": {
       "columns": [
        {
         "name": "index",
         "rawType": "int64",
         "type": "integer"
        },
        {
         "name": "Year",
         "rawType": "int64",
         "type": "integer"
        },
        {
         "name": "State",
         "rawType": "object",
         "type": "string"
        },
        {
         "name": "District",
         "rawType": "object",
         "type": "string"
        },
        {
         "name": "Block/Taluka",
         "rawType": "object",
         "type": "unknown"
        },
        {
         "name": "Location/Site/Village",
         "rawType": "object",
         "type": "string"
        },
        {
         "name": "Latitude",
         "rawType": "float64",
         "type": "float"
        },
        {
         "name": "Longitude",
         "rawType": "float64",
         "type": "float"
        },
        {
         "name": "pH",
         "rawType": "object",
         "type": "string"
        },
        {
         "name": "EC (µS/cm)",
         "rawType": "float64",
         "type": "float"
        },
        {
         "name": "CO3 (mg/L)",
         "rawType": "float64",
         "type": "float"
        },
        {
         "name": "HCO3 (mg/L)",
         "rawType": "float64",
         "type": "float"
        },
        {
         "name": "Cl (mg/L)",
         "rawType": "float64",
         "type": "float"
        },
        {
         "name": "F (mg/L)",
         "rawType": "object",
         "type": "string"
        },
        {
         "name": "SO4 (mg/L)",
         "rawType": "object",
         "type": "string"
        },
        {
         "name": "NO3 (mg/L)",
         "rawType": "object",
         "type": "string"
        },
        {
         "name": "PO4 (mg/L)",
         "rawType": "object",
         "type": "string"
        },
        {
         "name": "Total Hardness",
         "rawType": "float64",
         "type": "float"
        },
        {
         "name": "Ca (mg/L)",
         "rawType": "float64",
         "type": "float"
        },
        {
         "name": "Mg (mg/L)",
         "rawType": "float64",
         "type": "float"
        },
        {
         "name": "Na (mg/L)",
         "rawType": "float64",
         "type": "float"
        },
        {
         "name": "K (mg/L)",
         "rawType": "object",
         "type": "string"
        },
        {
         "name": "SiO2",
         "rawType": "object",
         "type": "unknown"
        },
        {
         "name": "TDS",
         "rawType": "float64",
         "type": "float"
        },
        {
         "name": "Fe (ppm)",
         "rawType": "float64",
         "type": "float"
        },
        {
         "name": "As (ppb)",
         "rawType": "float64",
         "type": "float"
        },
        {
         "name": "U (ppb)",
         "rawType": "float64",
         "type": "float"
        }
       ],
       "ref": "09105aa6-a2a2-49cb-a753-6fd340d8d107",
       "rows": [
        [
         "0",
         "2023",
         "Punjab",
         "Amritsar",
         null,
         "Jagdev Khurd (Dalla)",
         "31.907",
         "74.7391",
         "7.58",
         "1233.0",
         "0.0",
         "476.0",
         "92.0",
         "0.61",
         "19.00",
         "2.00",
         "0.00",
         "380.0",
         "96.0",
         "34.0",
         "65.0",
         "14.00",
         null,
         null,
         "1.11",
         "35.9",
         "0.57"
        ],
        [
         "1",
         "2023",
         "Punjab",
         "Amritsar",
         null,
         "Laungo Mahal",
         "31.9059",
         "74.8189",
         "7.96",
         "683.0",
         "0.0",
         "415.0",
         "35.0",
         "0.62",
         "0.00",
         "0.00",
         "0.00",
         "200.0",
         "40.0",
         "24.0",
         "87.0",
         "6.00",
         null,
         null,
         "0.04",
         "54.06",
         "3.77"
        ],
        [
         "2",
         "2023",
         "Punjab",
         "Amritsar",
         null,
         "Makowal",
         "31.9046",
         "74.8904",
         "8.20",
         "412.0",
         "0.0",
         "254.0",
         "21.0",
         "0.56",
         "0.00",
         "0.00",
         "0.00",
         "180.0",
         "32.0",
         "24.0",
         "21.0",
         "7.00",
         null,
         null,
         "0.05",
         "44.44",
         "3.04"
        ],
        [
         "3",
         "2023",
         "Punjab",
         "Amritsar",
         null,
         "Malakpur",
         "31.9534",
         "74.8453",
         "8.20",
         "442.0",
         "0.0",
         "220.0",
         "21.0",
         "0.48",
         "0.00",
         "1.00",
         "0.00",
         "170.0",
         "32.0",
         "22.0",
         "20.0",
         "5.00",
         null,
         null,
         "1.76",
         "35.85",
         "1.04"
        ],
        [
         "4",
         "2023",
         "Punjab",
         "Amritsar",
         null,
         "Ramdas",
         "31.9667",
         "74.9111",
         "8.10",
         "373.0",
         "0.0",
         "238.0",
         "14.0",
         "0.83",
         "0.00",
         "0.00",
         "0.00",
         "110.0",
         "24.0",
         "12.0",
         "47.0",
         "4.00",
         null,
         null,
         "0.05",
         "36.31",
         "0.11"
        ]
       ],
       "shape": {
        "columns": 26,
        "rows": 5
       }
      },
      "text/html": [
       "<div>\n",
       "<style scoped>\n",
       "    .dataframe tbody tr th:only-of-type {\n",
       "        vertical-align: middle;\n",
       "    }\n",
       "\n",
       "    .dataframe tbody tr th {\n",
       "        vertical-align: top;\n",
       "    }\n",
       "\n",
       "    .dataframe thead th {\n",
       "        text-align: right;\n",
       "    }\n",
       "</style>\n",
       "<table border=\"1\" class=\"dataframe\">\n",
       "  <thead>\n",
       "    <tr style=\"text-align: right;\">\n",
       "      <th></th>\n",
       "      <th>Year</th>\n",
       "      <th>State</th>\n",
       "      <th>District</th>\n",
       "      <th>Block/Taluka</th>\n",
       "      <th>Location/Site/Village</th>\n",
       "      <th>Latitude</th>\n",
       "      <th>Longitude</th>\n",
       "      <th>pH</th>\n",
       "      <th>EC (µS/cm)</th>\n",
       "      <th>CO3 (mg/L)</th>\n",
       "      <th>...</th>\n",
       "      <th>Total Hardness</th>\n",
       "      <th>Ca (mg/L)</th>\n",
       "      <th>Mg (mg/L)</th>\n",
       "      <th>Na (mg/L)</th>\n",
       "      <th>K (mg/L)</th>\n",
       "      <th>SiO2</th>\n",
       "      <th>TDS</th>\n",
       "      <th>Fe (ppm)</th>\n",
       "      <th>As (ppb)</th>\n",
       "      <th>U (ppb)</th>\n",
       "    </tr>\n",
       "  </thead>\n",
       "  <tbody>\n",
       "    <tr>\n",
       "      <th>0</th>\n",
       "      <td>2023</td>\n",
       "      <td>Punjab</td>\n",
       "      <td>Amritsar</td>\n",
       "      <td>NaN</td>\n",
       "      <td>Jagdev Khurd (Dalla)</td>\n",
       "      <td>31.9070</td>\n",
       "      <td>74.7391</td>\n",
       "      <td>7.58</td>\n",
       "      <td>1233.0</td>\n",
       "      <td>0.0</td>\n",
       "      <td>...</td>\n",
       "      <td>380.0</td>\n",
       "      <td>96.0</td>\n",
       "      <td>34.0</td>\n",
       "      <td>65.0</td>\n",
       "      <td>14.00</td>\n",
       "      <td>NaN</td>\n",
       "      <td>NaN</td>\n",
       "      <td>1.11</td>\n",
       "      <td>35.90</td>\n",
       "      <td>0.57</td>\n",
       "    </tr>\n",
       "    <tr>\n",
       "      <th>1</th>\n",
       "      <td>2023</td>\n",
       "      <td>Punjab</td>\n",
       "      <td>Amritsar</td>\n",
       "      <td>NaN</td>\n",
       "      <td>Laungo Mahal</td>\n",
       "      <td>31.9059</td>\n",
       "      <td>74.8189</td>\n",
       "      <td>7.96</td>\n",
       "      <td>683.0</td>\n",
       "      <td>0.0</td>\n",
       "      <td>...</td>\n",
       "      <td>200.0</td>\n",
       "      <td>40.0</td>\n",
       "      <td>24.0</td>\n",
       "      <td>87.0</td>\n",
       "      <td>6.00</td>\n",
       "      <td>NaN</td>\n",
       "      <td>NaN</td>\n",
       "      <td>0.04</td>\n",
       "      <td>54.06</td>\n",
       "      <td>3.77</td>\n",
       "    </tr>\n",
       "    <tr>\n",
       "      <th>2</th>\n",
       "      <td>2023</td>\n",
       "      <td>Punjab</td>\n",
       "      <td>Amritsar</td>\n",
       "      <td>NaN</td>\n",
       "      <td>Makowal</td>\n",
       "      <td>31.9046</td>\n",
       "      <td>74.8904</td>\n",
       "      <td>8.20</td>\n",
       "      <td>412.0</td>\n",
       "      <td>0.0</td>\n",
       "      <td>...</td>\n",
       "      <td>180.0</td>\n",
       "      <td>32.0</td>\n",
       "      <td>24.0</td>\n",
       "      <td>21.0</td>\n",
       "      <td>7.00</td>\n",
       "      <td>NaN</td>\n",
       "      <td>NaN</td>\n",
       "      <td>0.05</td>\n",
       "      <td>44.44</td>\n",
       "      <td>3.04</td>\n",
       "    </tr>\n",
       "    <tr>\n",
       "      <th>3</th>\n",
       "      <td>2023</td>\n",
       "      <td>Punjab</td>\n",
       "      <td>Amritsar</td>\n",
       "      <td>NaN</td>\n",
       "      <td>Malakpur</td>\n",
       "      <td>31.9534</td>\n",
       "      <td>74.8453</td>\n",
       "      <td>8.20</td>\n",
       "      <td>442.0</td>\n",
       "      <td>0.0</td>\n",
       "      <td>...</td>\n",
       "      <td>170.0</td>\n",
       "      <td>32.0</td>\n",
       "      <td>22.0</td>\n",
       "      <td>20.0</td>\n",
       "      <td>5.00</td>\n",
       "      <td>NaN</td>\n",
       "      <td>NaN</td>\n",
       "      <td>1.76</td>\n",
       "      <td>35.85</td>\n",
       "      <td>1.04</td>\n",
       "    </tr>\n",
       "    <tr>\n",
       "      <th>4</th>\n",
       "      <td>2023</td>\n",
       "      <td>Punjab</td>\n",
       "      <td>Amritsar</td>\n",
       "      <td>NaN</td>\n",
       "      <td>Ramdas</td>\n",
       "      <td>31.9667</td>\n",
       "      <td>74.9111</td>\n",
       "      <td>8.10</td>\n",
       "      <td>373.0</td>\n",
       "      <td>0.0</td>\n",
       "      <td>...</td>\n",
       "      <td>110.0</td>\n",
       "      <td>24.0</td>\n",
       "      <td>12.0</td>\n",
       "      <td>47.0</td>\n",
       "      <td>4.00</td>\n",
       "      <td>NaN</td>\n",
       "      <td>NaN</td>\n",
       "      <td>0.05</td>\n",
       "      <td>36.31</td>\n",
       "      <td>0.11</td>\n",
       "    </tr>\n",
       "  </tbody>\n",
       "</table>\n",
       "<p>5 rows × 26 columns</p>\n",
       "</div>"
      ],
      "text/plain": [
       "   Year   State  District Block/Taluka Location/Site/Village  Latitude  \\\n",
       "0  2023  Punjab  Amritsar          NaN  Jagdev Khurd (Dalla)   31.9070   \n",
       "1  2023  Punjab  Amritsar          NaN          Laungo Mahal   31.9059   \n",
       "2  2023  Punjab  Amritsar          NaN               Makowal   31.9046   \n",
       "3  2023  Punjab  Amritsar          NaN              Malakpur   31.9534   \n",
       "4  2023  Punjab  Amritsar          NaN                Ramdas   31.9667   \n",
       "\n",
       "   Longitude    pH  EC (µS/cm)  CO3 (mg/L)  ...  Total Hardness  Ca (mg/L)  \\\n",
       "0    74.7391  7.58      1233.0         0.0  ...           380.0       96.0   \n",
       "1    74.8189  7.96       683.0         0.0  ...           200.0       40.0   \n",
       "2    74.8904  8.20       412.0         0.0  ...           180.0       32.0   \n",
       "3    74.8453  8.20       442.0         0.0  ...           170.0       32.0   \n",
       "4    74.9111  8.10       373.0         0.0  ...           110.0       24.0   \n",
       "\n",
       "  Mg (mg/L) Na (mg/L) K (mg/L) SiO2  TDS  Fe (ppm)  As (ppb)  U (ppb)  \n",
       "0      34.0      65.0    14.00  NaN  NaN      1.11     35.90     0.57  \n",
       "1      24.0      87.0     6.00  NaN  NaN      0.04     54.06     3.77  \n",
       "2      24.0      21.0     7.00  NaN  NaN      0.05     44.44     3.04  \n",
       "3      22.0      20.0     5.00  NaN  NaN      1.76     35.85     1.04  \n",
       "4      12.0      47.0     4.00  NaN  NaN      0.05     36.31     0.11  \n",
       "\n",
       "[5 rows x 26 columns]"
      ]
     },
     "execution_count": 2,
     "metadata": {},
     "output_type": "execute_result"
    }
   ],
   "source": [
    "df = pd.read_csv(\"uranium2.csv\")\n",
    "df.head()"
   ]
  },
  {
   "cell_type": "code",
   "execution_count": 3,
   "id": "f231e3bf",
   "metadata": {},
   "outputs": [
    {
     "name": "stdout",
     "output_type": "stream",
     "text": [
      "<class 'pandas.core.frame.DataFrame'>\n",
      "RangeIndex: 4281 entries, 0 to 4280\n",
      "Data columns (total 26 columns):\n",
      " #   Column                 Non-Null Count  Dtype  \n",
      "---  ------                 --------------  -----  \n",
      " 0   Year                   4281 non-null   int64  \n",
      " 1   State                  4281 non-null   object \n",
      " 2   District               4281 non-null   object \n",
      " 3   Block/Taluka           3345 non-null   object \n",
      " 4   Location/Site/Village  4281 non-null   object \n",
      " 5   Latitude               4281 non-null   float64\n",
      " 6   Longitude              4281 non-null   float64\n",
      " 7   pH                     4281 non-null   object \n",
      " 8   EC (µS/cm)             4273 non-null   float64\n",
      " 9   CO3 (mg/L)             4273 non-null   float64\n",
      " 10  HCO3 (mg/L)            4273 non-null   float64\n",
      " 11  Cl (mg/L)              4273 non-null   float64\n",
      " 12  F (mg/L)               4273 non-null   object \n",
      " 13  SO4 (mg/L)             4272 non-null   object \n",
      " 14  NO3 (mg/L)             4273 non-null   object \n",
      " 15  PO4 (mg/L)             4274 non-null   object \n",
      " 16  Total Hardness         4273 non-null   float64\n",
      " 17  Ca (mg/L)              4273 non-null   float64\n",
      " 18  Mg (mg/L)              4273 non-null   float64\n",
      " 19  Na (mg/L)              4273 non-null   float64\n",
      " 20  K (mg/L)               4272 non-null   object \n",
      " 21  SiO2                   1297 non-null   object \n",
      " 22  TDS                    1359 non-null   float64\n",
      " 23  Fe (ppm)               908 non-null    float64\n",
      " 24  As (ppb)               908 non-null    float64\n",
      " 25  U (ppb)                908 non-null    float64\n",
      "dtypes: float64(14), int64(1), object(11)\n",
      "memory usage: 869.7+ KB\n"
     ]
    }
   ],
   "source": [
    "df.info()"
   ]
  },
  {
   "cell_type": "markdown",
   "id": "fa267cec",
   "metadata": {},
   "source": [
    "## Data Cleaning\n",
    "---"
   ]
  },
  {
   "cell_type": "code",
   "execution_count": 4,
   "id": "4ee61b60",
   "metadata": {},
   "outputs": [
    {
     "name": "stdout",
     "output_type": "stream",
     "text": [
      "<class 'pandas.core.frame.DataFrame'>\n",
      "RangeIndex: 4281 entries, 0 to 4280\n",
      "Data columns (total 26 columns):\n",
      " #   Column                 Non-Null Count  Dtype  \n",
      "---  ------                 --------------  -----  \n",
      " 0   Year                   4281 non-null   int64  \n",
      " 1   State                  4281 non-null   object \n",
      " 2   District               4281 non-null   object \n",
      " 3   Block/Taluka           3345 non-null   object \n",
      " 4   Location/Site/Village  4281 non-null   object \n",
      " 5   Latitude               4281 non-null   float64\n",
      " 6   Longitude              4281 non-null   float64\n",
      " 7   pH                     4281 non-null   object \n",
      " 8   EC (µS/cm)             4273 non-null   float64\n",
      " 9   CO3 (mg/L)             4273 non-null   float64\n",
      " 10  HCO3 (mg/L)            4273 non-null   float64\n",
      " 11  Cl (mg/L)              4273 non-null   float64\n",
      " 12  F (mg/L)               4273 non-null   object \n",
      " 13  SO4 (mg/L)             4272 non-null   object \n",
      " 14  NO3 (mg/L)             4273 non-null   object \n",
      " 15  PO4 (mg/L)             4274 non-null   object \n",
      " 16  Total Hardness         4273 non-null   float64\n",
      " 17  Ca (mg/L)              4273 non-null   float64\n",
      " 18  Mg (mg/L)              4273 non-null   float64\n",
      " 19  Na (mg/L)              4273 non-null   float64\n",
      " 20  K (mg/L)               4272 non-null   object \n",
      " 21  SiO2                   1297 non-null   object \n",
      " 22  TDS                    1359 non-null   float64\n",
      " 23  Fe (ppm)               908 non-null    float64\n",
      " 24  As (ppb)               908 non-null    float64\n",
      " 25  U (ppb)                908 non-null    float64\n",
      "dtypes: float64(14), int64(1), object(11)\n",
      "memory usage: 869.7+ KB\n"
     ]
    }
   ],
   "source": [
    "df_clean = df.copy(deep=True)\n",
    "df_clean.info()"
   ]
  },
  {
   "cell_type": "markdown",
   "id": "7743ab4d",
   "metadata": {},
   "source": [
    "### From pH `object` to `float`"
   ]
  },
  {
   "cell_type": "code",
   "execution_count": 5,
   "id": "9b41daf4",
   "metadata": {},
   "outputs": [
    {
     "data": {
      "application/vnd.microsoft.datawrangler.viewer.v0+json": {
       "columns": [
        {
         "name": "pH",
         "rawType": "object",
         "type": "string"
        },
        {
         "name": "count",
         "rawType": "int64",
         "type": "integer"
        }
       ],
       "ref": "94106dd6-59aa-4016-a056-7477b3de76b6",
       "rows": [
        [
         "Leaked",
         "8"
        ]
       ],
       "shape": {
        "columns": 1,
        "rows": 1
       }
      },
      "text/plain": [
       "pH\n",
       "Leaked    8\n",
       "Name: count, dtype: int64"
      ]
     },
     "execution_count": 5,
     "metadata": {},
     "output_type": "execute_result"
    }
   ],
   "source": [
    "# Seeing why: this gives a list of  all unique non-float types\n",
    "df[\"pH\"][pd.to_numeric(df[\"pH\"], errors=\"coerce\").isna()].value_counts()"
   ]
  },
  {
   "cell_type": "code",
   "execution_count": 6,
   "id": "115589f6",
   "metadata": {},
   "outputs": [],
   "source": [
    "# Fixing this with NAs\n",
    "df_clean[\"pH\"] = pd.to_numeric(df[\"pH\"], errors=\"coerce\")"
   ]
  },
  {
   "cell_type": "code",
   "execution_count": 7,
   "id": "ff400210",
   "metadata": {},
   "outputs": [
    {
     "name": "stdout",
     "output_type": "stream",
     "text": [
      "<class 'pandas.core.frame.DataFrame'>\n",
      "RangeIndex: 4281 entries, 0 to 4280\n",
      "Data columns (total 26 columns):\n",
      " #   Column                 Non-Null Count  Dtype  \n",
      "---  ------                 --------------  -----  \n",
      " 0   Year                   4281 non-null   int64  \n",
      " 1   State                  4281 non-null   object \n",
      " 2   District               4281 non-null   object \n",
      " 3   Block/Taluka           3345 non-null   object \n",
      " 4   Location/Site/Village  4281 non-null   object \n",
      " 5   Latitude               4281 non-null   float64\n",
      " 6   Longitude              4281 non-null   float64\n",
      " 7   pH                     4273 non-null   float64\n",
      " 8   EC (µS/cm)             4273 non-null   float64\n",
      " 9   CO3 (mg/L)             4273 non-null   float64\n",
      " 10  HCO3 (mg/L)            4273 non-null   float64\n",
      " 11  Cl (mg/L)              4273 non-null   float64\n",
      " 12  F (mg/L)               4273 non-null   object \n",
      " 13  SO4 (mg/L)             4272 non-null   object \n",
      " 14  NO3 (mg/L)             4273 non-null   object \n",
      " 15  PO4 (mg/L)             4274 non-null   object \n",
      " 16  Total Hardness         4273 non-null   float64\n",
      " 17  Ca (mg/L)              4273 non-null   float64\n",
      " 18  Mg (mg/L)              4273 non-null   float64\n",
      " 19  Na (mg/L)              4273 non-null   float64\n",
      " 20  K (mg/L)               4272 non-null   object \n",
      " 21  SiO2                   1297 non-null   object \n",
      " 22  TDS                    1359 non-null   float64\n",
      " 23  Fe (ppm)               908 non-null    float64\n",
      " 24  As (ppb)               908 non-null    float64\n",
      " 25  U (ppb)                908 non-null    float64\n",
      "dtypes: float64(15), int64(1), object(10)\n",
      "memory usage: 869.7+ KB\n"
     ]
    }
   ],
   "source": [
    "df_clean.info()"
   ]
  },
  {
   "cell_type": "markdown",
   "id": "6b0d06ee",
   "metadata": {},
   "source": [
    "### From F `object` to `float`"
   ]
  },
  {
   "cell_type": "code",
   "execution_count": 8,
   "id": "be327664",
   "metadata": {},
   "outputs": [
    {
     "data": {
      "application/vnd.microsoft.datawrangler.viewer.v0+json": {
       "columns": [
        {
         "name": "F (mg/L)",
         "rawType": "object",
         "type": "string"
        },
        {
         "name": "count",
         "rawType": "int64",
         "type": "integer"
        }
       ],
       "ref": "48206c9c-3ef1-48ca-a2cb-59adaf8233f8",
       "rows": [
        [
         "ND",
         "1"
        ],
        [
         "<0.05",
         "1"
        ]
       ],
       "shape": {
        "columns": 1,
        "rows": 2
       }
      },
      "text/plain": [
       "F (mg/L)\n",
       "ND       1\n",
       "<0.05    1\n",
       "Name: count, dtype: int64"
      ]
     },
     "execution_count": 8,
     "metadata": {},
     "output_type": "execute_result"
    }
   ],
   "source": [
    "df[\"F (mg/L)\"][pd.to_numeric(df[\"F (mg/L)\"], errors=\"coerce\").isna()].value_counts()"
   ]
  },
  {
   "cell_type": "code",
   "execution_count": 9,
   "id": "9b181090",
   "metadata": {},
   "outputs": [],
   "source": [
    "df_clean[\"F (mg/L)\"] = df[\"F (mg/L)\"].replace(\"<0.05\", 0.05)\n",
    "df_clean[\"F (mg/L)\"] = df_clean[\"F (mg/L)\"].replace(\"ND\", np.nan)\n",
    "df_clean[\"F (mg/L)\"] = pd.to_numeric(df_clean[\"F (mg/L)\"], errors=\"coerce\")"
   ]
  },
  {
   "cell_type": "code",
   "execution_count": 10,
   "id": "16a4c347",
   "metadata": {},
   "outputs": [
    {
     "data": {
      "application/vnd.microsoft.datawrangler.viewer.v0+json": {
       "columns": [
        {
         "name": "F (mg/L)",
         "rawType": "float64",
         "type": "float"
        },
        {
         "name": "count",
         "rawType": "int64",
         "type": "integer"
        }
       ],
       "ref": "0183f772-db55-4f2f-bc72-780ef7c39928",
       "rows": [],
       "shape": {
        "columns": 1,
        "rows": 0
       }
      },
      "text/plain": [
       "Series([], Name: count, dtype: int64)"
      ]
     },
     "execution_count": 10,
     "metadata": {},
     "output_type": "execute_result"
    }
   ],
   "source": [
    "df_clean[\"F (mg/L)\"][\n",
    "    pd.to_numeric(df_clean[\"F (mg/L)\"], errors=\"coerce\").isna()\n",
    "].value_counts()"
   ]
  },
  {
   "cell_type": "code",
   "execution_count": 11,
   "id": "ea9461ad",
   "metadata": {},
   "outputs": [
    {
     "name": "stdout",
     "output_type": "stream",
     "text": [
      "<class 'pandas.core.frame.DataFrame'>\n",
      "RangeIndex: 4281 entries, 0 to 4280\n",
      "Data columns (total 26 columns):\n",
      " #   Column                 Non-Null Count  Dtype  \n",
      "---  ------                 --------------  -----  \n",
      " 0   Year                   4281 non-null   int64  \n",
      " 1   State                  4281 non-null   object \n",
      " 2   District               4281 non-null   object \n",
      " 3   Block/Taluka           3345 non-null   object \n",
      " 4   Location/Site/Village  4281 non-null   object \n",
      " 5   Latitude               4281 non-null   float64\n",
      " 6   Longitude              4281 non-null   float64\n",
      " 7   pH                     4273 non-null   float64\n",
      " 8   EC (µS/cm)             4273 non-null   float64\n",
      " 9   CO3 (mg/L)             4273 non-null   float64\n",
      " 10  HCO3 (mg/L)            4273 non-null   float64\n",
      " 11  Cl (mg/L)              4273 non-null   float64\n",
      " 12  F (mg/L)               4272 non-null   float64\n",
      " 13  SO4 (mg/L)             4272 non-null   object \n",
      " 14  NO3 (mg/L)             4273 non-null   object \n",
      " 15  PO4 (mg/L)             4274 non-null   object \n",
      " 16  Total Hardness         4273 non-null   float64\n",
      " 17  Ca (mg/L)              4273 non-null   float64\n",
      " 18  Mg (mg/L)              4273 non-null   float64\n",
      " 19  Na (mg/L)              4273 non-null   float64\n",
      " 20  K (mg/L)               4272 non-null   object \n",
      " 21  SiO2                   1297 non-null   object \n",
      " 22  TDS                    1359 non-null   float64\n",
      " 23  Fe (ppm)               908 non-null    float64\n",
      " 24  As (ppb)               908 non-null    float64\n",
      " 25  U (ppb)                908 non-null    float64\n",
      "dtypes: float64(16), int64(1), object(9)\n",
      "memory usage: 869.7+ KB\n"
     ]
    }
   ],
   "source": [
    "df_clean.info()"
   ]
  },
  {
   "cell_type": "markdown",
   "id": "5b4778d3",
   "metadata": {},
   "source": [
    "### Same with SO4, NO3, and PO4"
   ]
  },
  {
   "cell_type": "code",
   "execution_count": 12,
   "id": "887b2ea3",
   "metadata": {},
   "outputs": [
    {
     "data": {
      "application/vnd.microsoft.datawrangler.viewer.v0+json": {
       "columns": [
        {
         "name": "SO4 (mg/L)",
         "rawType": "object",
         "type": "string"
        },
        {
         "name": "count",
         "rawType": "int64",
         "type": "integer"
        }
       ],
       "ref": "cf60df23-aed9-4138-b73a-f78ad1ee0a98",
       "rows": [
        [
         "BDL",
         "62"
        ],
        [
         "ND",
         "1"
        ]
       ],
       "shape": {
        "columns": 1,
        "rows": 2
       }
      },
      "text/plain": [
       "SO4 (mg/L)\n",
       "BDL    62\n",
       "ND      1\n",
       "Name: count, dtype: int64"
      ]
     },
     "execution_count": 12,
     "metadata": {},
     "output_type": "execute_result"
    }
   ],
   "source": [
    "df[\"SO4 (mg/L)\"][pd.to_numeric(df[\"SO4 (mg/L)\"], errors=\"coerce\").isna()].value_counts()"
   ]
  },
  {
   "cell_type": "code",
   "execution_count": 13,
   "id": "dbcee5ee",
   "metadata": {},
   "outputs": [],
   "source": [
    "df_clean[\"SO4 (mg/L)\"] = pd.to_numeric(df[\"SO4 (mg/L)\"], errors=\"coerce\")"
   ]
  },
  {
   "cell_type": "code",
   "execution_count": 14,
   "id": "be622d4a",
   "metadata": {},
   "outputs": [
    {
     "data": {
      "application/vnd.microsoft.datawrangler.viewer.v0+json": {
       "columns": [
        {
         "name": "SO4 (mg/L)",
         "rawType": "float64",
         "type": "float"
        },
        {
         "name": "count",
         "rawType": "int64",
         "type": "integer"
        }
       ],
       "ref": "53079c4f-02cc-4dfd-a7de-620c39dcacff",
       "rows": [],
       "shape": {
        "columns": 1,
        "rows": 0
       }
      },
      "text/plain": [
       "Series([], Name: count, dtype: int64)"
      ]
     },
     "execution_count": 14,
     "metadata": {},
     "output_type": "execute_result"
    }
   ],
   "source": [
    "df_clean[\"SO4 (mg/L)\"][\n",
    "    pd.to_numeric(df_clean[\"SO4 (mg/L)\"], errors=\"coerce\").isna()\n",
    "].value_counts()"
   ]
  },
  {
   "cell_type": "code",
   "execution_count": 15,
   "id": "a608e8c8",
   "metadata": {},
   "outputs": [
    {
     "data": {
      "application/vnd.microsoft.datawrangler.viewer.v0+json": {
       "columns": [
        {
         "name": "NO3 (mg/L)",
         "rawType": "object",
         "type": "string"
        },
        {
         "name": "count",
         "rawType": "int64",
         "type": "integer"
        }
       ],
       "ref": "9eed3161-8d67-44ad-b9c8-159a7d9d2160",
       "rows": [
        [
         "BDL",
         "26"
        ]
       ],
       "shape": {
        "columns": 1,
        "rows": 1
       }
      },
      "text/plain": [
       "NO3 (mg/L)\n",
       "BDL    26\n",
       "Name: count, dtype: int64"
      ]
     },
     "execution_count": 15,
     "metadata": {},
     "output_type": "execute_result"
    }
   ],
   "source": [
    "df[\"NO3 (mg/L)\"][pd.to_numeric(df[\"NO3 (mg/L)\"], errors=\"coerce\").isna()].value_counts()"
   ]
  },
  {
   "cell_type": "code",
   "execution_count": 16,
   "id": "6ced8671",
   "metadata": {},
   "outputs": [],
   "source": [
    "df_clean[\"NO3 (mg/L)\"] = pd.to_numeric(df[\"NO3 (mg/L)\"], errors=\"coerce\")"
   ]
  },
  {
   "cell_type": "code",
   "execution_count": 17,
   "id": "616ffc91",
   "metadata": {},
   "outputs": [
    {
     "data": {
      "application/vnd.microsoft.datawrangler.viewer.v0+json": {
       "columns": [
        {
         "name": "NO3 (mg/L)",
         "rawType": "float64",
         "type": "float"
        },
        {
         "name": "count",
         "rawType": "int64",
         "type": "integer"
        }
       ],
       "ref": "bdfb97e4-450b-45da-9eca-f1954e379562",
       "rows": [],
       "shape": {
        "columns": 1,
        "rows": 0
       }
      },
      "text/plain": [
       "Series([], Name: count, dtype: int64)"
      ]
     },
     "execution_count": 17,
     "metadata": {},
     "output_type": "execute_result"
    }
   ],
   "source": [
    "df_clean[\"NO3 (mg/L)\"][\n",
    "    pd.to_numeric(df_clean[\"NO3 (mg/L)\"], errors=\"coerce\").isna()\n",
    "].value_counts()"
   ]
  },
  {
   "cell_type": "code",
   "execution_count": 18,
   "id": "01014254",
   "metadata": {},
   "outputs": [
    {
     "data": {
      "application/vnd.microsoft.datawrangler.viewer.v0+json": {
       "columns": [
        {
         "name": "PO4 (mg/L)",
         "rawType": "object",
         "type": "string"
        },
        {
         "name": "count",
         "rawType": "int64",
         "type": "integer"
        }
       ],
       "ref": "d9c54042-b5cd-4272-9585-936f14728bb2",
       "rows": [
        [
         "<0.10",
         "332"
        ],
        [
         "<0.1",
         "208"
        ],
        [
         "<0.01",
         "59"
        ],
        [
         "ND",
         "1"
        ]
       ],
       "shape": {
        "columns": 1,
        "rows": 4
       }
      },
      "text/plain": [
       "PO4 (mg/L)\n",
       "<0.10    332\n",
       "<0.1     208\n",
       "<0.01     59\n",
       "ND         1\n",
       "Name: count, dtype: int64"
      ]
     },
     "execution_count": 18,
     "metadata": {},
     "output_type": "execute_result"
    }
   ],
   "source": [
    "df[\"PO4 (mg/L)\"][pd.to_numeric(df[\"PO4 (mg/L)\"], errors=\"coerce\").isna()].value_counts()"
   ]
  },
  {
   "cell_type": "code",
   "execution_count": 19,
   "id": "d78cb87f",
   "metadata": {},
   "outputs": [],
   "source": [
    "df_clean[\"PO4 (mg/L)\"] = df_clean[\"PO4 (mg/L)\"].str.replace(\"<\", \"\")\n",
    "df_clean[\"PO4 (mg/L)\"] = pd.to_numeric(df_clean[\"PO4 (mg/L)\"], errors=\"coerce\")"
   ]
  },
  {
   "cell_type": "code",
   "execution_count": 20,
   "id": "3e8574dd",
   "metadata": {},
   "outputs": [
    {
     "data": {
      "application/vnd.microsoft.datawrangler.viewer.v0+json": {
       "columns": [
        {
         "name": "PO4 (mg/L)",
         "rawType": "float64",
         "type": "float"
        },
        {
         "name": "count",
         "rawType": "int64",
         "type": "integer"
        }
       ],
       "ref": "8a0e5c15-4356-495a-82b7-629e84dbd12c",
       "rows": [],
       "shape": {
        "columns": 1,
        "rows": 0
       }
      },
      "text/plain": [
       "Series([], Name: count, dtype: int64)"
      ]
     },
     "execution_count": 20,
     "metadata": {},
     "output_type": "execute_result"
    }
   ],
   "source": [
    "df_clean[\"PO4 (mg/L)\"][\n",
    "    pd.to_numeric(df_clean[\"PO4 (mg/L)\"], errors=\"coerce\").isna()\n",
    "].value_counts()"
   ]
  },
  {
   "cell_type": "code",
   "execution_count": 21,
   "id": "81bf4f0e",
   "metadata": {},
   "outputs": [
    {
     "name": "stdout",
     "output_type": "stream",
     "text": [
      "<class 'pandas.core.frame.DataFrame'>\n",
      "RangeIndex: 4281 entries, 0 to 4280\n",
      "Data columns (total 26 columns):\n",
      " #   Column                 Non-Null Count  Dtype  \n",
      "---  ------                 --------------  -----  \n",
      " 0   Year                   4281 non-null   int64  \n",
      " 1   State                  4281 non-null   object \n",
      " 2   District               4281 non-null   object \n",
      " 3   Block/Taluka           3345 non-null   object \n",
      " 4   Location/Site/Village  4281 non-null   object \n",
      " 5   Latitude               4281 non-null   float64\n",
      " 6   Longitude              4281 non-null   float64\n",
      " 7   pH                     4273 non-null   float64\n",
      " 8   EC (µS/cm)             4273 non-null   float64\n",
      " 9   CO3 (mg/L)             4273 non-null   float64\n",
      " 10  HCO3 (mg/L)            4273 non-null   float64\n",
      " 11  Cl (mg/L)              4273 non-null   float64\n",
      " 12  F (mg/L)               4272 non-null   float64\n",
      " 13  SO4 (mg/L)             4209 non-null   float64\n",
      " 14  NO3 (mg/L)             4247 non-null   float64\n",
      " 15  PO4 (mg/L)             4273 non-null   float64\n",
      " 16  Total Hardness         4273 non-null   float64\n",
      " 17  Ca (mg/L)              4273 non-null   float64\n",
      " 18  Mg (mg/L)              4273 non-null   float64\n",
      " 19  Na (mg/L)              4273 non-null   float64\n",
      " 20  K (mg/L)               4272 non-null   object \n",
      " 21  SiO2                   1297 non-null   object \n",
      " 22  TDS                    1359 non-null   float64\n",
      " 23  Fe (ppm)               908 non-null    float64\n",
      " 24  As (ppb)               908 non-null    float64\n",
      " 25  U (ppb)                908 non-null    float64\n",
      "dtypes: float64(19), int64(1), object(6)\n",
      "memory usage: 869.7+ KB\n"
     ]
    }
   ],
   "source": [
    "df_clean.info()"
   ]
  },
  {
   "cell_type": "markdown",
   "id": "844c04e3",
   "metadata": {},
   "source": [
    "### K & SiO2 `object` to `float`"
   ]
  },
  {
   "cell_type": "code",
   "execution_count": 22,
   "id": "55e6cf92",
   "metadata": {},
   "outputs": [
    {
     "data": {
      "application/vnd.microsoft.datawrangler.viewer.v0+json": {
       "columns": [
        {
         "name": "K (mg/L)",
         "rawType": "object",
         "type": "string"
        },
        {
         "name": "count",
         "rawType": "int64",
         "type": "integer"
        }
       ],
       "ref": "398ccebb-0ce0-4f5e-af1d-afa4849bdb1e",
       "rows": [
        [
         "<1",
         "1"
        ]
       ],
       "shape": {
        "columns": 1,
        "rows": 1
       }
      },
      "text/plain": [
       "K (mg/L)\n",
       "<1    1\n",
       "Name: count, dtype: int64"
      ]
     },
     "execution_count": 22,
     "metadata": {},
     "output_type": "execute_result"
    }
   ],
   "source": [
    "df[\"K (mg/L)\"][pd.to_numeric(df[\"K (mg/L)\"], errors=\"coerce\").isna()].value_counts()"
   ]
  },
  {
   "cell_type": "code",
   "execution_count": 23,
   "id": "7297f7db",
   "metadata": {},
   "outputs": [],
   "source": [
    "df_clean[\"K (mg/L)\"] = df[\"K (mg/L)\"].str.replace(\"<\", \"\")\n",
    "df_clean[\"K (mg/L)\"] = pd.to_numeric(df_clean[\"K (mg/L)\"], errors=\"coerce\")"
   ]
  },
  {
   "cell_type": "code",
   "execution_count": 24,
   "id": "b66f6df0",
   "metadata": {},
   "outputs": [
    {
     "data": {
      "application/vnd.microsoft.datawrangler.viewer.v0+json": {
       "columns": [
        {
         "name": "K (mg/L)",
         "rawType": "float64",
         "type": "float"
        },
        {
         "name": "count",
         "rawType": "int64",
         "type": "integer"
        }
       ],
       "ref": "4ec2e69b-d313-4c04-8da9-c5bfec732417",
       "rows": [],
       "shape": {
        "columns": 1,
        "rows": 0
       }
      },
      "text/plain": [
       "Series([], Name: count, dtype: int64)"
      ]
     },
     "execution_count": 24,
     "metadata": {},
     "output_type": "execute_result"
    }
   ],
   "source": [
    "df_clean[\"K (mg/L)\"][\n",
    "    pd.to_numeric(df_clean[\"K (mg/L)\"], errors=\"coerce\").isna()\n",
    "].value_counts()"
   ]
  },
  {
   "cell_type": "code",
   "execution_count": 25,
   "id": "f20982f0",
   "metadata": {},
   "outputs": [
    {
     "data": {
      "application/vnd.microsoft.datawrangler.viewer.v0+json": {
       "columns": [
        {
         "name": "SiO2",
         "rawType": "object",
         "type": "string"
        },
        {
         "name": "count",
         "rawType": "int64",
         "type": "integer"
        }
       ],
       "ref": "f40f28d9-ac76-4a0f-ab3d-d668d58bcc3a",
       "rows": [
        [
         "ND",
         "1"
        ]
       ],
       "shape": {
        "columns": 1,
        "rows": 1
       }
      },
      "text/plain": [
       "SiO2\n",
       "ND    1\n",
       "Name: count, dtype: int64"
      ]
     },
     "execution_count": 25,
     "metadata": {},
     "output_type": "execute_result"
    }
   ],
   "source": [
    "df[\"SiO2\"][pd.to_numeric(df[\"SiO2\"], errors=\"coerce\").isna()].value_counts()"
   ]
  },
  {
   "cell_type": "code",
   "execution_count": 26,
   "id": "a57adfec",
   "metadata": {},
   "outputs": [
    {
     "data": {
      "application/vnd.microsoft.datawrangler.viewer.v0+json": {
       "columns": [
        {
         "name": "SiO2",
         "rawType": "float64",
         "type": "float"
        },
        {
         "name": "count",
         "rawType": "int64",
         "type": "integer"
        }
       ],
       "ref": "fc88099b-67e2-41ad-b9bc-13964f8fe39c",
       "rows": [],
       "shape": {
        "columns": 1,
        "rows": 0
       }
      },
      "text/plain": [
       "Series([], Name: count, dtype: int64)"
      ]
     },
     "execution_count": 26,
     "metadata": {},
     "output_type": "execute_result"
    }
   ],
   "source": [
    "df_clean[\"SiO2\"] = pd.to_numeric(df[\"SiO2\"], errors=\"coerce\")\n",
    "df_clean[\"SiO2\"][pd.to_numeric(df_clean[\"SiO2\"], errors=\"coerce\").isna()].value_counts()"
   ]
  },
  {
   "cell_type": "code",
   "execution_count": 27,
   "id": "8a7a00aa",
   "metadata": {},
   "outputs": [
    {
     "name": "stdout",
     "output_type": "stream",
     "text": [
      "<class 'pandas.core.frame.DataFrame'>\n",
      "RangeIndex: 4281 entries, 0 to 4280\n",
      "Data columns (total 26 columns):\n",
      " #   Column                 Non-Null Count  Dtype  \n",
      "---  ------                 --------------  -----  \n",
      " 0   Year                   4281 non-null   int64  \n",
      " 1   State                  4281 non-null   object \n",
      " 2   District               4281 non-null   object \n",
      " 3   Block/Taluka           3345 non-null   object \n",
      " 4   Location/Site/Village  4281 non-null   object \n",
      " 5   Latitude               4281 non-null   float64\n",
      " 6   Longitude              4281 non-null   float64\n",
      " 7   pH                     4273 non-null   float64\n",
      " 8   EC (µS/cm)             4273 non-null   float64\n",
      " 9   CO3 (mg/L)             4273 non-null   float64\n",
      " 10  HCO3 (mg/L)            4273 non-null   float64\n",
      " 11  Cl (mg/L)              4273 non-null   float64\n",
      " 12  F (mg/L)               4272 non-null   float64\n",
      " 13  SO4 (mg/L)             4209 non-null   float64\n",
      " 14  NO3 (mg/L)             4247 non-null   float64\n",
      " 15  PO4 (mg/L)             4273 non-null   float64\n",
      " 16  Total Hardness         4273 non-null   float64\n",
      " 17  Ca (mg/L)              4273 non-null   float64\n",
      " 18  Mg (mg/L)              4273 non-null   float64\n",
      " 19  Na (mg/L)              4273 non-null   float64\n",
      " 20  K (mg/L)               4272 non-null   float64\n",
      " 21  SiO2                   1296 non-null   float64\n",
      " 22  TDS                    1359 non-null   float64\n",
      " 23  Fe (ppm)               908 non-null    float64\n",
      " 24  As (ppb)               908 non-null    float64\n",
      " 25  U (ppb)                908 non-null    float64\n",
      "dtypes: float64(21), int64(1), object(4)\n",
      "memory usage: 869.7+ KB\n"
     ]
    }
   ],
   "source": [
    "df_clean.info()"
   ]
  },
  {
   "cell_type": "code",
   "execution_count": 28,
   "id": "a4ab9181",
   "metadata": {},
   "outputs": [
    {
     "data": {
      "application/vnd.microsoft.datawrangler.viewer.v0+json": {
       "columns": [
        {
         "name": "index",
         "rawType": "int64",
         "type": "integer"
        },
        {
         "name": "Year",
         "rawType": "int64",
         "type": "integer"
        },
        {
         "name": "State",
         "rawType": "object",
         "type": "string"
        },
        {
         "name": "District",
         "rawType": "object",
         "type": "string"
        },
        {
         "name": "Block/Taluka",
         "rawType": "object",
         "type": "unknown"
        },
        {
         "name": "Location/Site/Village",
         "rawType": "object",
         "type": "string"
        },
        {
         "name": "Latitude",
         "rawType": "float64",
         "type": "float"
        },
        {
         "name": "Longitude",
         "rawType": "float64",
         "type": "float"
        },
        {
         "name": "pH",
         "rawType": "float64",
         "type": "float"
        },
        {
         "name": "EC (µS/cm)",
         "rawType": "float64",
         "type": "float"
        },
        {
         "name": "CO3 (mg/L)",
         "rawType": "float64",
         "type": "float"
        },
        {
         "name": "HCO3 (mg/L)",
         "rawType": "float64",
         "type": "float"
        },
        {
         "name": "Cl (mg/L)",
         "rawType": "float64",
         "type": "float"
        },
        {
         "name": "F (mg/L)",
         "rawType": "float64",
         "type": "float"
        },
        {
         "name": "SO4 (mg/L)",
         "rawType": "float64",
         "type": "float"
        },
        {
         "name": "NO3 (mg/L)",
         "rawType": "float64",
         "type": "float"
        },
        {
         "name": "PO4 (mg/L)",
         "rawType": "float64",
         "type": "float"
        },
        {
         "name": "Total Hardness",
         "rawType": "float64",
         "type": "float"
        },
        {
         "name": "Ca (mg/L)",
         "rawType": "float64",
         "type": "float"
        },
        {
         "name": "Mg (mg/L)",
         "rawType": "float64",
         "type": "float"
        },
        {
         "name": "Na (mg/L)",
         "rawType": "float64",
         "type": "float"
        },
        {
         "name": "K (mg/L)",
         "rawType": "float64",
         "type": "float"
        },
        {
         "name": "SiO2",
         "rawType": "float64",
         "type": "float"
        },
        {
         "name": "TDS",
         "rawType": "float64",
         "type": "float"
        },
        {
         "name": "Fe (ppm)",
         "rawType": "float64",
         "type": "float"
        },
        {
         "name": "As (ppb)",
         "rawType": "float64",
         "type": "float"
        },
        {
         "name": "U (ppb)",
         "rawType": "float64",
         "type": "float"
        }
       ],
       "ref": "479e3978-f45b-4a69-a5f8-a6333fb45dfa",
       "rows": [
        [
         "0",
         "2023",
         "Punjab",
         "Amritsar",
         null,
         "Jagdev Khurd (Dalla)",
         "31.907",
         "74.7391",
         "7.58",
         "1233.0",
         "0.0",
         "476.0",
         "92.0",
         "0.61",
         "19.0",
         "2.0",
         "0.0",
         "380.0",
         "96.0",
         "34.0",
         "65.0",
         "14.0",
         null,
         null,
         "1.11",
         "35.9",
         "0.57"
        ],
        [
         "1",
         "2023",
         "Punjab",
         "Amritsar",
         null,
         "Laungo Mahal",
         "31.9059",
         "74.8189",
         "7.96",
         "683.0",
         "0.0",
         "415.0",
         "35.0",
         "0.62",
         "0.0",
         "0.0",
         "0.0",
         "200.0",
         "40.0",
         "24.0",
         "87.0",
         "6.0",
         null,
         null,
         "0.04",
         "54.06",
         "3.77"
        ],
        [
         "2",
         "2023",
         "Punjab",
         "Amritsar",
         null,
         "Makowal",
         "31.9046",
         "74.8904",
         "8.2",
         "412.0",
         "0.0",
         "254.0",
         "21.0",
         "0.56",
         "0.0",
         "0.0",
         "0.0",
         "180.0",
         "32.0",
         "24.0",
         "21.0",
         "7.0",
         null,
         null,
         "0.05",
         "44.44",
         "3.04"
        ],
        [
         "3",
         "2023",
         "Punjab",
         "Amritsar",
         null,
         "Malakpur",
         "31.9534",
         "74.8453",
         "8.2",
         "442.0",
         "0.0",
         "220.0",
         "21.0",
         "0.48",
         "0.0",
         "1.0",
         "0.0",
         "170.0",
         "32.0",
         "22.0",
         "20.0",
         "5.0",
         null,
         null,
         "1.76",
         "35.85",
         "1.04"
        ],
        [
         "4",
         "2023",
         "Punjab",
         "Amritsar",
         null,
         "Ramdas",
         "31.9667",
         "74.9111",
         "8.1",
         "373.0",
         "0.0",
         "238.0",
         "14.0",
         "0.83",
         "0.0",
         "0.0",
         "0.0",
         "110.0",
         "24.0",
         "12.0",
         "47.0",
         "4.0",
         null,
         null,
         "0.05",
         "36.31",
         "0.11"
        ]
       ],
       "shape": {
        "columns": 26,
        "rows": 5
       }
      },
      "text/html": [
       "<div>\n",
       "<style scoped>\n",
       "    .dataframe tbody tr th:only-of-type {\n",
       "        vertical-align: middle;\n",
       "    }\n",
       "\n",
       "    .dataframe tbody tr th {\n",
       "        vertical-align: top;\n",
       "    }\n",
       "\n",
       "    .dataframe thead th {\n",
       "        text-align: right;\n",
       "    }\n",
       "</style>\n",
       "<table border=\"1\" class=\"dataframe\">\n",
       "  <thead>\n",
       "    <tr style=\"text-align: right;\">\n",
       "      <th></th>\n",
       "      <th>Year</th>\n",
       "      <th>State</th>\n",
       "      <th>District</th>\n",
       "      <th>Block/Taluka</th>\n",
       "      <th>Location/Site/Village</th>\n",
       "      <th>Latitude</th>\n",
       "      <th>Longitude</th>\n",
       "      <th>pH</th>\n",
       "      <th>EC (µS/cm)</th>\n",
       "      <th>CO3 (mg/L)</th>\n",
       "      <th>...</th>\n",
       "      <th>Total Hardness</th>\n",
       "      <th>Ca (mg/L)</th>\n",
       "      <th>Mg (mg/L)</th>\n",
       "      <th>Na (mg/L)</th>\n",
       "      <th>K (mg/L)</th>\n",
       "      <th>SiO2</th>\n",
       "      <th>TDS</th>\n",
       "      <th>Fe (ppm)</th>\n",
       "      <th>As (ppb)</th>\n",
       "      <th>U (ppb)</th>\n",
       "    </tr>\n",
       "  </thead>\n",
       "  <tbody>\n",
       "    <tr>\n",
       "      <th>0</th>\n",
       "      <td>2023</td>\n",
       "      <td>Punjab</td>\n",
       "      <td>Amritsar</td>\n",
       "      <td>NaN</td>\n",
       "      <td>Jagdev Khurd (Dalla)</td>\n",
       "      <td>31.9070</td>\n",
       "      <td>74.7391</td>\n",
       "      <td>7.58</td>\n",
       "      <td>1233.0</td>\n",
       "      <td>0.0</td>\n",
       "      <td>...</td>\n",
       "      <td>380.0</td>\n",
       "      <td>96.0</td>\n",
       "      <td>34.0</td>\n",
       "      <td>65.0</td>\n",
       "      <td>14.0</td>\n",
       "      <td>NaN</td>\n",
       "      <td>NaN</td>\n",
       "      <td>1.11</td>\n",
       "      <td>35.90</td>\n",
       "      <td>0.57</td>\n",
       "    </tr>\n",
       "    <tr>\n",
       "      <th>1</th>\n",
       "      <td>2023</td>\n",
       "      <td>Punjab</td>\n",
       "      <td>Amritsar</td>\n",
       "      <td>NaN</td>\n",
       "      <td>Laungo Mahal</td>\n",
       "      <td>31.9059</td>\n",
       "      <td>74.8189</td>\n",
       "      <td>7.96</td>\n",
       "      <td>683.0</td>\n",
       "      <td>0.0</td>\n",
       "      <td>...</td>\n",
       "      <td>200.0</td>\n",
       "      <td>40.0</td>\n",
       "      <td>24.0</td>\n",
       "      <td>87.0</td>\n",
       "      <td>6.0</td>\n",
       "      <td>NaN</td>\n",
       "      <td>NaN</td>\n",
       "      <td>0.04</td>\n",
       "      <td>54.06</td>\n",
       "      <td>3.77</td>\n",
       "    </tr>\n",
       "    <tr>\n",
       "      <th>2</th>\n",
       "      <td>2023</td>\n",
       "      <td>Punjab</td>\n",
       "      <td>Amritsar</td>\n",
       "      <td>NaN</td>\n",
       "      <td>Makowal</td>\n",
       "      <td>31.9046</td>\n",
       "      <td>74.8904</td>\n",
       "      <td>8.20</td>\n",
       "      <td>412.0</td>\n",
       "      <td>0.0</td>\n",
       "      <td>...</td>\n",
       "      <td>180.0</td>\n",
       "      <td>32.0</td>\n",
       "      <td>24.0</td>\n",
       "      <td>21.0</td>\n",
       "      <td>7.0</td>\n",
       "      <td>NaN</td>\n",
       "      <td>NaN</td>\n",
       "      <td>0.05</td>\n",
       "      <td>44.44</td>\n",
       "      <td>3.04</td>\n",
       "    </tr>\n",
       "    <tr>\n",
       "      <th>3</th>\n",
       "      <td>2023</td>\n",
       "      <td>Punjab</td>\n",
       "      <td>Amritsar</td>\n",
       "      <td>NaN</td>\n",
       "      <td>Malakpur</td>\n",
       "      <td>31.9534</td>\n",
       "      <td>74.8453</td>\n",
       "      <td>8.20</td>\n",
       "      <td>442.0</td>\n",
       "      <td>0.0</td>\n",
       "      <td>...</td>\n",
       "      <td>170.0</td>\n",
       "      <td>32.0</td>\n",
       "      <td>22.0</td>\n",
       "      <td>20.0</td>\n",
       "      <td>5.0</td>\n",
       "      <td>NaN</td>\n",
       "      <td>NaN</td>\n",
       "      <td>1.76</td>\n",
       "      <td>35.85</td>\n",
       "      <td>1.04</td>\n",
       "    </tr>\n",
       "    <tr>\n",
       "      <th>4</th>\n",
       "      <td>2023</td>\n",
       "      <td>Punjab</td>\n",
       "      <td>Amritsar</td>\n",
       "      <td>NaN</td>\n",
       "      <td>Ramdas</td>\n",
       "      <td>31.9667</td>\n",
       "      <td>74.9111</td>\n",
       "      <td>8.10</td>\n",
       "      <td>373.0</td>\n",
       "      <td>0.0</td>\n",
       "      <td>...</td>\n",
       "      <td>110.0</td>\n",
       "      <td>24.0</td>\n",
       "      <td>12.0</td>\n",
       "      <td>47.0</td>\n",
       "      <td>4.0</td>\n",
       "      <td>NaN</td>\n",
       "      <td>NaN</td>\n",
       "      <td>0.05</td>\n",
       "      <td>36.31</td>\n",
       "      <td>0.11</td>\n",
       "    </tr>\n",
       "  </tbody>\n",
       "</table>\n",
       "<p>5 rows × 26 columns</p>\n",
       "</div>"
      ],
      "text/plain": [
       "   Year   State  District Block/Taluka Location/Site/Village  Latitude  \\\n",
       "0  2023  Punjab  Amritsar          NaN  Jagdev Khurd (Dalla)   31.9070   \n",
       "1  2023  Punjab  Amritsar          NaN          Laungo Mahal   31.9059   \n",
       "2  2023  Punjab  Amritsar          NaN               Makowal   31.9046   \n",
       "3  2023  Punjab  Amritsar          NaN              Malakpur   31.9534   \n",
       "4  2023  Punjab  Amritsar          NaN                Ramdas   31.9667   \n",
       "\n",
       "   Longitude    pH  EC (µS/cm)  CO3 (mg/L)  ...  Total Hardness  Ca (mg/L)  \\\n",
       "0    74.7391  7.58      1233.0         0.0  ...           380.0       96.0   \n",
       "1    74.8189  7.96       683.0         0.0  ...           200.0       40.0   \n",
       "2    74.8904  8.20       412.0         0.0  ...           180.0       32.0   \n",
       "3    74.8453  8.20       442.0         0.0  ...           170.0       32.0   \n",
       "4    74.9111  8.10       373.0         0.0  ...           110.0       24.0   \n",
       "\n",
       "   Mg (mg/L)  Na (mg/L)  K (mg/L)  SiO2  TDS  Fe (ppm)  As (ppb)  U (ppb)  \n",
       "0       34.0       65.0      14.0   NaN  NaN      1.11     35.90     0.57  \n",
       "1       24.0       87.0       6.0   NaN  NaN      0.04     54.06     3.77  \n",
       "2       24.0       21.0       7.0   NaN  NaN      0.05     44.44     3.04  \n",
       "3       22.0       20.0       5.0   NaN  NaN      1.76     35.85     1.04  \n",
       "4       12.0       47.0       4.0   NaN  NaN      0.05     36.31     0.11  \n",
       "\n",
       "[5 rows x 26 columns]"
      ]
     },
     "execution_count": 28,
     "metadata": {},
     "output_type": "execute_result"
    }
   ],
   "source": [
    "df_clean.head()"
   ]
  },
  {
   "cell_type": "markdown",
   "id": "e90946c8",
   "metadata": {},
   "source": [
    "## Initial Correlations and Patterns\n",
    "---"
   ]
  },
  {
   "cell_type": "code",
   "execution_count": null,
   "id": "f2e9f2ea",
   "metadata": {},
   "outputs": [],
   "source": [
    "# Dropping non-numeric shit\n",
    "df_numeric = df_clean.drop(columns=[\"\"])"
   ]
  },
  {
   "cell_type": "code",
   "execution_count": 30,
   "id": "87d8edd5",
   "metadata": {},
   "outputs": [
    {
     "ename": "ValueError",
     "evalue": "could not convert string to float: 'Punjab'",
     "output_type": "error",
     "traceback": [
      "\u001b[0;31m---------------------------------------------------------------------------\u001b[0m",
      "\u001b[0;31mValueError\u001b[0m                                Traceback (most recent call last)",
      "Cell \u001b[0;32mIn[30], line 1\u001b[0m\n\u001b[0;32m----> 1\u001b[0m sns\u001b[38;5;241m.\u001b[39mheatmap(\u001b[43mdf_clean\u001b[49m\u001b[38;5;241;43m.\u001b[39;49m\u001b[43mcorr\u001b[49m\u001b[43m(\u001b[49m\u001b[43m)\u001b[49m)\n",
      "File \u001b[0;32m~/.local/lib/python3.13/site-packages/pandas/core/frame.py:11049\u001b[0m, in \u001b[0;36mDataFrame.corr\u001b[0;34m(self, method, min_periods, numeric_only)\u001b[0m\n\u001b[1;32m  11047\u001b[0m cols \u001b[38;5;241m=\u001b[39m data\u001b[38;5;241m.\u001b[39mcolumns\n\u001b[1;32m  11048\u001b[0m idx \u001b[38;5;241m=\u001b[39m cols\u001b[38;5;241m.\u001b[39mcopy()\n\u001b[0;32m> 11049\u001b[0m mat \u001b[38;5;241m=\u001b[39m \u001b[43mdata\u001b[49m\u001b[38;5;241;43m.\u001b[39;49m\u001b[43mto_numpy\u001b[49m\u001b[43m(\u001b[49m\u001b[43mdtype\u001b[49m\u001b[38;5;241;43m=\u001b[39;49m\u001b[38;5;28;43mfloat\u001b[39;49m\u001b[43m,\u001b[49m\u001b[43m \u001b[49m\u001b[43mna_value\u001b[49m\u001b[38;5;241;43m=\u001b[39;49m\u001b[43mnp\u001b[49m\u001b[38;5;241;43m.\u001b[39;49m\u001b[43mnan\u001b[49m\u001b[43m,\u001b[49m\u001b[43m \u001b[49m\u001b[43mcopy\u001b[49m\u001b[38;5;241;43m=\u001b[39;49m\u001b[38;5;28;43;01mFalse\u001b[39;49;00m\u001b[43m)\u001b[49m\n\u001b[1;32m  11051\u001b[0m \u001b[38;5;28;01mif\u001b[39;00m method \u001b[38;5;241m==\u001b[39m \u001b[38;5;124m\"\u001b[39m\u001b[38;5;124mpearson\u001b[39m\u001b[38;5;124m\"\u001b[39m:\n\u001b[1;32m  11052\u001b[0m     correl \u001b[38;5;241m=\u001b[39m libalgos\u001b[38;5;241m.\u001b[39mnancorr(mat, minp\u001b[38;5;241m=\u001b[39mmin_periods)\n",
      "File \u001b[0;32m~/.local/lib/python3.13/site-packages/pandas/core/frame.py:1993\u001b[0m, in \u001b[0;36mDataFrame.to_numpy\u001b[0;34m(self, dtype, copy, na_value)\u001b[0m\n\u001b[1;32m   1991\u001b[0m \u001b[38;5;28;01mif\u001b[39;00m dtype \u001b[38;5;129;01mis\u001b[39;00m \u001b[38;5;129;01mnot\u001b[39;00m \u001b[38;5;28;01mNone\u001b[39;00m:\n\u001b[1;32m   1992\u001b[0m     dtype \u001b[38;5;241m=\u001b[39m np\u001b[38;5;241m.\u001b[39mdtype(dtype)\n\u001b[0;32m-> 1993\u001b[0m result \u001b[38;5;241m=\u001b[39m \u001b[38;5;28;43mself\u001b[39;49m\u001b[38;5;241;43m.\u001b[39;49m\u001b[43m_mgr\u001b[49m\u001b[38;5;241;43m.\u001b[39;49m\u001b[43mas_array\u001b[49m\u001b[43m(\u001b[49m\u001b[43mdtype\u001b[49m\u001b[38;5;241;43m=\u001b[39;49m\u001b[43mdtype\u001b[49m\u001b[43m,\u001b[49m\u001b[43m \u001b[49m\u001b[43mcopy\u001b[49m\u001b[38;5;241;43m=\u001b[39;49m\u001b[43mcopy\u001b[49m\u001b[43m,\u001b[49m\u001b[43m \u001b[49m\u001b[43mna_value\u001b[49m\u001b[38;5;241;43m=\u001b[39;49m\u001b[43mna_value\u001b[49m\u001b[43m)\u001b[49m\n\u001b[1;32m   1994\u001b[0m \u001b[38;5;28;01mif\u001b[39;00m result\u001b[38;5;241m.\u001b[39mdtype \u001b[38;5;129;01mis\u001b[39;00m \u001b[38;5;129;01mnot\u001b[39;00m dtype:\n\u001b[1;32m   1995\u001b[0m     result \u001b[38;5;241m=\u001b[39m np\u001b[38;5;241m.\u001b[39masarray(result, dtype\u001b[38;5;241m=\u001b[39mdtype)\n",
      "File \u001b[0;32m~/.local/lib/python3.13/site-packages/pandas/core/internals/managers.py:1694\u001b[0m, in \u001b[0;36mBlockManager.as_array\u001b[0;34m(self, dtype, copy, na_value)\u001b[0m\n\u001b[1;32m   1692\u001b[0m         arr\u001b[38;5;241m.\u001b[39mflags\u001b[38;5;241m.\u001b[39mwriteable \u001b[38;5;241m=\u001b[39m \u001b[38;5;28;01mFalse\u001b[39;00m\n\u001b[1;32m   1693\u001b[0m \u001b[38;5;28;01melse\u001b[39;00m:\n\u001b[0;32m-> 1694\u001b[0m     arr \u001b[38;5;241m=\u001b[39m \u001b[38;5;28;43mself\u001b[39;49m\u001b[38;5;241;43m.\u001b[39;49m\u001b[43m_interleave\u001b[49m\u001b[43m(\u001b[49m\u001b[43mdtype\u001b[49m\u001b[38;5;241;43m=\u001b[39;49m\u001b[43mdtype\u001b[49m\u001b[43m,\u001b[49m\u001b[43m \u001b[49m\u001b[43mna_value\u001b[49m\u001b[38;5;241;43m=\u001b[39;49m\u001b[43mna_value\u001b[49m\u001b[43m)\u001b[49m\n\u001b[1;32m   1695\u001b[0m     \u001b[38;5;66;03m# The underlying data was copied within _interleave, so no need\u001b[39;00m\n\u001b[1;32m   1696\u001b[0m     \u001b[38;5;66;03m# to further copy if copy=True or setting na_value\u001b[39;00m\n\u001b[1;32m   1698\u001b[0m \u001b[38;5;28;01mif\u001b[39;00m na_value \u001b[38;5;129;01mis\u001b[39;00m lib\u001b[38;5;241m.\u001b[39mno_default:\n",
      "File \u001b[0;32m~/.local/lib/python3.13/site-packages/pandas/core/internals/managers.py:1753\u001b[0m, in \u001b[0;36mBlockManager._interleave\u001b[0;34m(self, dtype, na_value)\u001b[0m\n\u001b[1;32m   1751\u001b[0m     \u001b[38;5;28;01melse\u001b[39;00m:\n\u001b[1;32m   1752\u001b[0m         arr \u001b[38;5;241m=\u001b[39m blk\u001b[38;5;241m.\u001b[39mget_values(dtype)\n\u001b[0;32m-> 1753\u001b[0m     \u001b[43mresult\u001b[49m\u001b[43m[\u001b[49m\u001b[43mrl\u001b[49m\u001b[38;5;241;43m.\u001b[39;49m\u001b[43mindexer\u001b[49m\u001b[43m]\u001b[49m \u001b[38;5;241m=\u001b[39m arr\n\u001b[1;32m   1754\u001b[0m     itemmask[rl\u001b[38;5;241m.\u001b[39mindexer] \u001b[38;5;241m=\u001b[39m \u001b[38;5;241m1\u001b[39m\n\u001b[1;32m   1756\u001b[0m \u001b[38;5;28;01mif\u001b[39;00m \u001b[38;5;129;01mnot\u001b[39;00m itemmask\u001b[38;5;241m.\u001b[39mall():\n",
      "\u001b[0;31mValueError\u001b[0m: could not convert string to float: 'Punjab'"
     ]
    }
   ],
   "source": [
    "sns.heatmap(df_clean.corr())"
   ]
  }
 ],
 "metadata": {
  "kernelspec": {
   "display_name": "Python 3",
   "language": "python",
   "name": "python3"
  },
  "language_info": {
   "codemirror_mode": {
    "name": "ipython",
    "version": 3
   },
   "file_extension": ".py",
   "mimetype": "text/x-python",
   "name": "python",
   "nbconvert_exporter": "python",
   "pygments_lexer": "ipython3",
   "version": "3.13.1"
  }
 },
 "nbformat": 4,
 "nbformat_minor": 5
}
